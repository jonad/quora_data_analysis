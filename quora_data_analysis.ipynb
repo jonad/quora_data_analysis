{
 "cells": [
  {
   "cell_type": "markdown",
   "metadata": {},
   "source": [
    "## Import packages"
   ]
  },
  {
   "cell_type": "code",
   "execution_count": 1,
   "metadata": {
    "collapsed": true
   },
   "outputs": [],
   "source": [
    "import pandas as pd\n",
    "import matplotlib.pyplot as plt\n",
    "import numpy as np\n",
    "import seaborn as sns"
   ]
  },
  {
   "cell_type": "markdown",
   "metadata": {},
   "source": [
    "## Read the data"
   ]
  },
  {
   "cell_type": "code",
   "execution_count": 2,
   "metadata": {
    "collapsed": true
   },
   "outputs": [],
   "source": [
    "# read the data\n",
    "train = pd.read_csv('data/train.csv')"
   ]
  },
  {
   "cell_type": "code",
   "execution_count": 3,
   "metadata": {
    "collapsed": true
   },
   "outputs": [],
   "source": [
    "# first look"
   ]
  },
  {
   "cell_type": "code",
   "execution_count": 4,
   "metadata": {
    "collapsed": false
   },
   "outputs": [
    {
     "data": {
      "text/html": [
       "<div>\n",
       "<table border=\"1\" class=\"dataframe\">\n",
       "  <thead>\n",
       "    <tr style=\"text-align: right;\">\n",
       "      <th></th>\n",
       "      <th>id</th>\n",
       "      <th>qid1</th>\n",
       "      <th>qid2</th>\n",
       "      <th>question1</th>\n",
       "      <th>question2</th>\n",
       "      <th>is_duplicate</th>\n",
       "    </tr>\n",
       "  </thead>\n",
       "  <tbody>\n",
       "    <tr>\n",
       "      <th>0</th>\n",
       "      <td>0</td>\n",
       "      <td>1</td>\n",
       "      <td>2</td>\n",
       "      <td>What is the step by step guide to invest in sh...</td>\n",
       "      <td>What is the step by step guide to invest in sh...</td>\n",
       "      <td>0</td>\n",
       "    </tr>\n",
       "    <tr>\n",
       "      <th>1</th>\n",
       "      <td>1</td>\n",
       "      <td>3</td>\n",
       "      <td>4</td>\n",
       "      <td>What is the story of Kohinoor (Koh-i-Noor) Dia...</td>\n",
       "      <td>What would happen if the Indian government sto...</td>\n",
       "      <td>0</td>\n",
       "    </tr>\n",
       "    <tr>\n",
       "      <th>2</th>\n",
       "      <td>2</td>\n",
       "      <td>5</td>\n",
       "      <td>6</td>\n",
       "      <td>How can I increase the speed of my internet co...</td>\n",
       "      <td>How can Internet speed be increased by hacking...</td>\n",
       "      <td>0</td>\n",
       "    </tr>\n",
       "    <tr>\n",
       "      <th>3</th>\n",
       "      <td>3</td>\n",
       "      <td>7</td>\n",
       "      <td>8</td>\n",
       "      <td>Why am I mentally very lonely? How can I solve...</td>\n",
       "      <td>Find the remainder when [math]23^{24}[/math] i...</td>\n",
       "      <td>0</td>\n",
       "    </tr>\n",
       "    <tr>\n",
       "      <th>4</th>\n",
       "      <td>4</td>\n",
       "      <td>9</td>\n",
       "      <td>10</td>\n",
       "      <td>Which one dissolve in water quikly sugar, salt...</td>\n",
       "      <td>Which fish would survive in salt water?</td>\n",
       "      <td>0</td>\n",
       "    </tr>\n",
       "  </tbody>\n",
       "</table>\n",
       "</div>"
      ],
      "text/plain": [
       "   id  qid1  qid2                                          question1  \\\n",
       "0   0     1     2  What is the step by step guide to invest in sh...   \n",
       "1   1     3     4  What is the story of Kohinoor (Koh-i-Noor) Dia...   \n",
       "2   2     5     6  How can I increase the speed of my internet co...   \n",
       "3   3     7     8  Why am I mentally very lonely? How can I solve...   \n",
       "4   4     9    10  Which one dissolve in water quikly sugar, salt...   \n",
       "\n",
       "                                           question2  is_duplicate  \n",
       "0  What is the step by step guide to invest in sh...             0  \n",
       "1  What would happen if the Indian government sto...             0  \n",
       "2  How can Internet speed be increased by hacking...             0  \n",
       "3  Find the remainder when [math]23^{24}[/math] i...             0  \n",
       "4            Which fish would survive in salt water?             0  "
      ]
     },
     "execution_count": 4,
     "metadata": {},
     "output_type": "execute_result"
    }
   ],
   "source": [
    "train.head()"
   ]
  },
  {
   "cell_type": "code",
   "execution_count": 5,
   "metadata": {
    "collapsed": false
   },
   "outputs": [
    {
     "name": "stdout",
     "output_type": "stream",
     "text": [
      "<class 'pandas.core.frame.DataFrame'>\n",
      "RangeIndex: 404290 entries, 0 to 404289\n",
      "Data columns (total 6 columns):\n",
      "id              404290 non-null int64\n",
      "qid1            404290 non-null int64\n",
      "qid2            404290 non-null int64\n",
      "question1       404290 non-null object\n",
      "question2       404288 non-null object\n",
      "is_duplicate    404290 non-null int64\n",
      "dtypes: int64(4), object(2)\n",
      "memory usage: 18.5+ MB\n"
     ]
    }
   ],
   "source": [
    "# summary information about the data\n",
    "train.info()"
   ]
  },
  {
   "cell_type": "markdown",
   "metadata": {},
   "source": [
    "## Todo : summary of data variable\n",
    "###\n",
    "###"
   ]
  },
  {
   "cell_type": "code",
   "execution_count": 6,
   "metadata": {
    "collapsed": false
   },
   "outputs": [
    {
     "name": "stdout",
     "output_type": "stream",
     "text": [
      "The number of duplicated 'id' is: 0\n",
      "The number of duplicated 'qid1' is 113636\n",
      "The number of duplicated 'qid2' is {duplicated_qid2}\n"
     ]
    }
   ],
   "source": [
    "# check for duplicated ids\n",
    "duplicated_id = sum(train.duplicated('id'))\n",
    "duplicated_qid1 = sum(train.duplicated('qid1'))\n",
    "duplicated_qid2 = sum(train.duplicated('qid2'))\n",
    "print(f\"The number of duplicated 'id' is: {duplicated_id}\")\n",
    "print(f\"The number of duplicated 'qid1' is {duplicated_qid1}\")\n",
    "print(\"The number of duplicated 'qid2' is {duplicated_qid2}\")"
   ]
  },
  {
   "cell_type": "code",
   "execution_count": 7,
   "metadata": {
    "collapsed": false
   },
   "outputs": [
    {
     "name": "stdout",
     "output_type": "stream",
     "text": [
      "Question 1 has 0 missing values\n",
      "Question 2 has 2 missing values\n"
     ]
    }
   ],
   "source": [
    "# let's remove missing value\n",
    "q1_nan = sum(train.question1.isnull())\n",
    "q2_nan = sum(train.question2.isnull())\n",
    "print(f'Question 1 has {q1_nan} missing values')\n",
    "print(f'Question 2 has {q2_nan} missing values')"
   ]
  },
  {
   "cell_type": "code",
   "execution_count": 8,
   "metadata": {
    "collapsed": false
   },
   "outputs": [
    {
     "data": {
      "text/html": [
       "<div>\n",
       "<table border=\"1\" class=\"dataframe\">\n",
       "  <thead>\n",
       "    <tr style=\"text-align: right;\">\n",
       "      <th></th>\n",
       "      <th>id</th>\n",
       "      <th>qid1</th>\n",
       "      <th>qid2</th>\n",
       "      <th>question1</th>\n",
       "      <th>question2</th>\n",
       "      <th>is_duplicate</th>\n",
       "    </tr>\n",
       "  </thead>\n",
       "  <tbody>\n",
       "    <tr>\n",
       "      <th>105780</th>\n",
       "      <td>105780</td>\n",
       "      <td>174363</td>\n",
       "      <td>174364</td>\n",
       "      <td>How can I develop android app?</td>\n",
       "      <td>NaN</td>\n",
       "      <td>0</td>\n",
       "    </tr>\n",
       "    <tr>\n",
       "      <th>201841</th>\n",
       "      <td>201841</td>\n",
       "      <td>303951</td>\n",
       "      <td>174364</td>\n",
       "      <td>How can I create an Android app?</td>\n",
       "      <td>NaN</td>\n",
       "      <td>0</td>\n",
       "    </tr>\n",
       "  </tbody>\n",
       "</table>\n",
       "</div>"
      ],
      "text/plain": [
       "            id    qid1    qid2                         question1 question2  \\\n",
       "105780  105780  174363  174364    How can I develop android app?       NaN   \n",
       "201841  201841  303951  174364  How can I create an Android app?       NaN   \n",
       "\n",
       "        is_duplicate  \n",
       "105780             0  \n",
       "201841             0  "
      ]
     },
     "execution_count": 8,
     "metadata": {},
     "output_type": "execute_result"
    }
   ],
   "source": [
    "# question 2 missing entries\n",
    "train[train.question2.isnull()]"
   ]
  },
  {
   "cell_type": "code",
   "execution_count": 9,
   "metadata": {
    "collapsed": false
   },
   "outputs": [
    {
     "data": {
      "text/html": [
       "<div>\n",
       "<table border=\"1\" class=\"dataframe\">\n",
       "  <thead>\n",
       "    <tr style=\"text-align: right;\">\n",
       "      <th></th>\n",
       "      <th>id</th>\n",
       "      <th>qid1</th>\n",
       "      <th>qid2</th>\n",
       "      <th>question1</th>\n",
       "      <th>question2</th>\n",
       "      <th>is_duplicate</th>\n",
       "    </tr>\n",
       "  </thead>\n",
       "  <tbody>\n",
       "  </tbody>\n",
       "</table>\n",
       "</div>"
      ],
      "text/plain": [
       "Empty DataFrame\n",
       "Columns: [id, qid1, qid2, question1, question2, is_duplicate]\n",
       "Index: []"
      ]
     },
     "execution_count": 9,
     "metadata": {},
     "output_type": "execute_result"
    }
   ],
   "source": [
    "# question 1 missing entries\n",
    "train[train.question1.isnull()]"
   ]
  },
  {
   "cell_type": "code",
   "execution_count": 10,
   "metadata": {
    "collapsed": false
   },
   "outputs": [
    {
     "data": {
      "text/html": [
       "<div>\n",
       "<table border=\"1\" class=\"dataframe\">\n",
       "  <thead>\n",
       "    <tr style=\"text-align: right;\">\n",
       "      <th></th>\n",
       "      <th>id</th>\n",
       "      <th>qid1</th>\n",
       "      <th>qid2</th>\n",
       "      <th>question1</th>\n",
       "      <th>question2</th>\n",
       "      <th>is_duplicate</th>\n",
       "    </tr>\n",
       "  </thead>\n",
       "  <tbody>\n",
       "  </tbody>\n",
       "</table>\n",
       "</div>"
      ],
      "text/plain": [
       "Empty DataFrame\n",
       "Columns: [id, qid1, qid2, question1, question2, is_duplicate]\n",
       "Index: []"
      ]
     },
     "execution_count": 10,
     "metadata": {},
     "output_type": "execute_result"
    }
   ],
   "source": [
    "# let's remove question 2 missing entries\n",
    "train.drop(train.index[[105780,201841]], inplace=True)\n",
    "\n",
    "# verify \n",
    "train[train.question2.isnull()]"
   ]
  },
  {
   "cell_type": "code",
   "execution_count": 11,
   "metadata": {
    "collapsed": false
   },
   "outputs": [
    {
     "name": "stdout",
     "output_type": "stream",
     "text": [
      "The total number of qid1 that appears more than once is 167707\n",
      "The number of qid2 that appears more than once is 167707\n"
     ]
    }
   ],
   "source": [
    "# Let's look at the repeated questions in each columns.\n",
    "\n",
    "# get the number question1 ids that appear more than once\n",
    "q1 = train['qid1']\n",
    "q1_dup = train[q1.isin(q1[q1.duplicated()])].shape[0]\n",
    "print(f'The total number of qid1 that appears more than once is {q1_dup}')\n",
    "\n",
    "# get the number of question2 ids that appears more than once\n",
    "q2 = train['qid2']\n",
    "q2_dup = train[q1.isin(q1[q1.duplicated()])].shape[0]\n",
    "print(f'The number of qid2 that appears more than once is {q2_dup}')"
   ]
  },
  {
   "cell_type": "code",
   "execution_count": 12,
   "metadata": {
    "collapsed": true
   },
   "outputs": [],
   "source": [
    "# Now let's look at the questions corresponding to those ids\n",
    "train_q1_dup = train[q1.isin(q1[q1.duplicated()])].sort_values('qid1')\n",
    "train_q2_dup = train[q2.isin(q2[q2.duplicated()])].sort_values('qid2')"
   ]
  },
  {
   "cell_type": "code",
   "execution_count": 13,
   "metadata": {
    "collapsed": false
   },
   "outputs": [
    {
     "name": "stdout",
     "output_type": "stream",
     "text": [
      "First 5 entries for qid1\n"
     ]
    },
    {
     "data": {
      "text/html": [
       "<div>\n",
       "<table border=\"1\" class=\"dataframe\">\n",
       "  <thead>\n",
       "    <tr style=\"text-align: right;\">\n",
       "      <th></th>\n",
       "      <th>id</th>\n",
       "      <th>qid1</th>\n",
       "      <th>qid2</th>\n",
       "      <th>question1</th>\n",
       "      <th>question2</th>\n",
       "      <th>is_duplicate</th>\n",
       "    </tr>\n",
       "  </thead>\n",
       "  <tbody>\n",
       "    <tr>\n",
       "      <th>1</th>\n",
       "      <td>1</td>\n",
       "      <td>3</td>\n",
       "      <td>4</td>\n",
       "      <td>What is the story of Kohinoor (Koh-i-Noor) Dia...</td>\n",
       "      <td>What would happen if the Indian government sto...</td>\n",
       "      <td>0</td>\n",
       "    </tr>\n",
       "    <tr>\n",
       "      <th>359232</th>\n",
       "      <td>359232</td>\n",
       "      <td>3</td>\n",
       "      <td>488853</td>\n",
       "      <td>What is the story of Kohinoor (Koh-i-Noor) Dia...</td>\n",
       "      <td>Could India keep the Koh-I-Noor safe?</td>\n",
       "      <td>0</td>\n",
       "    </tr>\n",
       "    <tr>\n",
       "      <th>263614</th>\n",
       "      <td>263614</td>\n",
       "      <td>3</td>\n",
       "      <td>380197</td>\n",
       "      <td>What is the story of Kohinoor (Koh-i-Noor) Dia...</td>\n",
       "      <td>What are some interesting facts about Kohinoor...</td>\n",
       "      <td>0</td>\n",
       "    </tr>\n",
       "    <tr>\n",
       "      <th>184732</th>\n",
       "      <td>184732</td>\n",
       "      <td>3</td>\n",
       "      <td>282170</td>\n",
       "      <td>What is the story of Kohinoor (Koh-i-Noor) Dia...</td>\n",
       "      <td>Is it possible to melt down diamonds?</td>\n",
       "      <td>0</td>\n",
       "    </tr>\n",
       "    <tr>\n",
       "      <th>4</th>\n",
       "      <td>4</td>\n",
       "      <td>9</td>\n",
       "      <td>10</td>\n",
       "      <td>Which one dissolve in water quikly sugar, salt...</td>\n",
       "      <td>Which fish would survive in salt water?</td>\n",
       "      <td>0</td>\n",
       "    </tr>\n",
       "  </tbody>\n",
       "</table>\n",
       "</div>"
      ],
      "text/plain": [
       "            id  qid1    qid2  \\\n",
       "1            1     3       4   \n",
       "359232  359232     3  488853   \n",
       "263614  263614     3  380197   \n",
       "184732  184732     3  282170   \n",
       "4            4     9      10   \n",
       "\n",
       "                                                question1  \\\n",
       "1       What is the story of Kohinoor (Koh-i-Noor) Dia...   \n",
       "359232  What is the story of Kohinoor (Koh-i-Noor) Dia...   \n",
       "263614  What is the story of Kohinoor (Koh-i-Noor) Dia...   \n",
       "184732  What is the story of Kohinoor (Koh-i-Noor) Dia...   \n",
       "4       Which one dissolve in water quikly sugar, salt...   \n",
       "\n",
       "                                                question2  is_duplicate  \n",
       "1       What would happen if the Indian government sto...             0  \n",
       "359232              Could India keep the Koh-I-Noor safe?             0  \n",
       "263614  What are some interesting facts about Kohinoor...             0  \n",
       "184732              Is it possible to melt down diamonds?             0  \n",
       "4                 Which fish would survive in salt water?             0  "
      ]
     },
     "execution_count": 13,
     "metadata": {},
     "output_type": "execute_result"
    }
   ],
   "source": [
    "# let's check\n",
    "print('First 5 entries for qid1')\n",
    "train_q1_dup.head()"
   ]
  },
  {
   "cell_type": "code",
   "execution_count": 14,
   "metadata": {
    "collapsed": false
   },
   "outputs": [
    {
     "name": "stdout",
     "output_type": "stream",
     "text": [
      "Last 5 entries for qid1\n"
     ]
    },
    {
     "data": {
      "text/html": [
       "<div>\n",
       "<table border=\"1\" class=\"dataframe\">\n",
       "  <thead>\n",
       "    <tr style=\"text-align: right;\">\n",
       "      <th></th>\n",
       "      <th>id</th>\n",
       "      <th>qid1</th>\n",
       "      <th>qid2</th>\n",
       "      <th>question1</th>\n",
       "      <th>question2</th>\n",
       "      <th>is_duplicate</th>\n",
       "    </tr>\n",
       "  </thead>\n",
       "  <tbody>\n",
       "    <tr>\n",
       "      <th>403750</th>\n",
       "      <td>403750</td>\n",
       "      <td>532883</td>\n",
       "      <td>537349</td>\n",
       "      <td>What does “天人” mean in English?</td>\n",
       "      <td>What does ''bientot'' mean in English?</td>\n",
       "      <td>0</td>\n",
       "    </tr>\n",
       "    <tr>\n",
       "      <th>400745</th>\n",
       "      <td>400745</td>\n",
       "      <td>534098</td>\n",
       "      <td>78019</td>\n",
       "      <td>What is a career path?</td>\n",
       "      <td>What is the career path of a recruiter?</td>\n",
       "      <td>0</td>\n",
       "    </tr>\n",
       "    <tr>\n",
       "      <th>403461</th>\n",
       "      <td>403461</td>\n",
       "      <td>534098</td>\n",
       "      <td>537043</td>\n",
       "      <td>What is a career path?</td>\n",
       "      <td>What is the career path for a doctor?</td>\n",
       "      <td>0</td>\n",
       "    </tr>\n",
       "    <tr>\n",
       "      <th>404120</th>\n",
       "      <td>404120</td>\n",
       "      <td>535331</td>\n",
       "      <td>254941</td>\n",
       "      <td>What should I say when someone is expressing c...</td>\n",
       "      <td>What does it mean to be \"people smart\"?</td>\n",
       "      <td>0</td>\n",
       "    </tr>\n",
       "    <tr>\n",
       "      <th>401886</th>\n",
       "      <td>401886</td>\n",
       "      <td>535331</td>\n",
       "      <td>535332</td>\n",
       "      <td>What should I say when someone is expressing c...</td>\n",
       "      <td>How can you tell when someone is faking confid...</td>\n",
       "      <td>0</td>\n",
       "    </tr>\n",
       "  </tbody>\n",
       "</table>\n",
       "</div>"
      ],
      "text/plain": [
       "            id    qid1    qid2  \\\n",
       "403750  403750  532883  537349   \n",
       "400745  400745  534098   78019   \n",
       "403461  403461  534098  537043   \n",
       "404120  404120  535331  254941   \n",
       "401886  401886  535331  535332   \n",
       "\n",
       "                                                question1  \\\n",
       "403750                    What does “天人” mean in English?   \n",
       "400745                             What is a career path?   \n",
       "403461                             What is a career path?   \n",
       "404120  What should I say when someone is expressing c...   \n",
       "401886  What should I say when someone is expressing c...   \n",
       "\n",
       "                                                question2  is_duplicate  \n",
       "403750             What does ''bientot'' mean in English?             0  \n",
       "400745            What is the career path of a recruiter?             0  \n",
       "403461              What is the career path for a doctor?             0  \n",
       "404120            What does it mean to be \"people smart\"?             0  \n",
       "401886  How can you tell when someone is faking confid...             0  "
      ]
     },
     "execution_count": 14,
     "metadata": {},
     "output_type": "execute_result"
    }
   ],
   "source": [
    "print('Last 5 entries for qid1')\n",
    "train_q1_dup.tail()"
   ]
  },
  {
   "cell_type": "code",
   "execution_count": 15,
   "metadata": {
    "collapsed": false
   },
   "outputs": [
    {
     "name": "stdout",
     "output_type": "stream",
     "text": [
      "First 5 entries for qid2\n"
     ]
    },
    {
     "data": {
      "text/html": [
       "<div>\n",
       "<table border=\"1\" class=\"dataframe\">\n",
       "  <thead>\n",
       "    <tr style=\"text-align: right;\">\n",
       "      <th></th>\n",
       "      <th>id</th>\n",
       "      <th>qid1</th>\n",
       "      <th>qid2</th>\n",
       "      <th>question1</th>\n",
       "      <th>question2</th>\n",
       "      <th>is_duplicate</th>\n",
       "    </tr>\n",
       "  </thead>\n",
       "  <tbody>\n",
       "    <tr>\n",
       "      <th>8</th>\n",
       "      <td>8</td>\n",
       "      <td>17</td>\n",
       "      <td>18</td>\n",
       "      <td>When do you use シ instead of し?</td>\n",
       "      <td>When do you use \"&amp;\" instead of \"and\"?</td>\n",
       "      <td>0</td>\n",
       "    </tr>\n",
       "    <tr>\n",
       "      <th>402369</th>\n",
       "      <td>402369</td>\n",
       "      <td>38436</td>\n",
       "      <td>18</td>\n",
       "      <td>When do you use \"into\" instead of \"in to\"?</td>\n",
       "      <td>When do you use \"&amp;\" instead of \"and\"?</td>\n",
       "      <td>0</td>\n",
       "    </tr>\n",
       "    <tr>\n",
       "      <th>65735</th>\n",
       "      <td>65735</td>\n",
       "      <td>114035</td>\n",
       "      <td>26</td>\n",
       "      <td>Is there a way to make learning physics easier?</td>\n",
       "      <td>How can you make physics easy to learn?</td>\n",
       "      <td>1</td>\n",
       "    </tr>\n",
       "    <tr>\n",
       "      <th>12</th>\n",
       "      <td>12</td>\n",
       "      <td>25</td>\n",
       "      <td>26</td>\n",
       "      <td>What can make Physics easy to learn?</td>\n",
       "      <td>How can you make physics easy to learn?</td>\n",
       "      <td>1</td>\n",
       "    </tr>\n",
       "    <tr>\n",
       "      <th>13</th>\n",
       "      <td>13</td>\n",
       "      <td>27</td>\n",
       "      <td>28</td>\n",
       "      <td>What was your first sexual experience like?</td>\n",
       "      <td>What was your first sexual experience?</td>\n",
       "      <td>1</td>\n",
       "    </tr>\n",
       "  </tbody>\n",
       "</table>\n",
       "</div>"
      ],
      "text/plain": [
       "            id    qid1  qid2                                        question1  \\\n",
       "8            8      17    18                  When do you use シ instead of し?   \n",
       "402369  402369   38436    18       When do you use \"into\" instead of \"in to\"?   \n",
       "65735    65735  114035    26  Is there a way to make learning physics easier?   \n",
       "12          12      25    26             What can make Physics easy to learn?   \n",
       "13          13      27    28      What was your first sexual experience like?   \n",
       "\n",
       "                                      question2  is_duplicate  \n",
       "8         When do you use \"&\" instead of \"and\"?             0  \n",
       "402369    When do you use \"&\" instead of \"and\"?             0  \n",
       "65735   How can you make physics easy to learn?             1  \n",
       "12      How can you make physics easy to learn?             1  \n",
       "13       What was your first sexual experience?             1  "
      ]
     },
     "execution_count": 15,
     "metadata": {},
     "output_type": "execute_result"
    }
   ],
   "source": [
    "print('First 5 entries for qid2')\n",
    "train_q2_dup.head()"
   ]
  },
  {
   "cell_type": "code",
   "execution_count": 16,
   "metadata": {
    "collapsed": false
   },
   "outputs": [
    {
     "name": "stdout",
     "output_type": "stream",
     "text": [
      "Last 5 entries for qid2\n"
     ]
    },
    {
     "data": {
      "text/html": [
       "<div>\n",
       "<table border=\"1\" class=\"dataframe\">\n",
       "  <thead>\n",
       "    <tr style=\"text-align: right;\">\n",
       "      <th></th>\n",
       "      <th>id</th>\n",
       "      <th>qid1</th>\n",
       "      <th>qid2</th>\n",
       "      <th>question1</th>\n",
       "      <th>question2</th>\n",
       "      <th>is_duplicate</th>\n",
       "    </tr>\n",
       "  </thead>\n",
       "  <tbody>\n",
       "    <tr>\n",
       "      <th>399312</th>\n",
       "      <td>399312</td>\n",
       "      <td>219590</td>\n",
       "      <td>532565</td>\n",
       "      <td>How do astronauts shower in space?</td>\n",
       "      <td>How do astronauts bathe in space?</td>\n",
       "      <td>1</td>\n",
       "    </tr>\n",
       "    <tr>\n",
       "      <th>400906</th>\n",
       "      <td>400906</td>\n",
       "      <td>534275</td>\n",
       "      <td>533534</td>\n",
       "      <td>What is the origin of the saying \"knock on wood\"?</td>\n",
       "      <td>What is the origin of \"knocking on wood\"?</td>\n",
       "      <td>1</td>\n",
       "    </tr>\n",
       "    <tr>\n",
       "      <th>400191</th>\n",
       "      <td>400191</td>\n",
       "      <td>533533</td>\n",
       "      <td>533534</td>\n",
       "      <td>Why is knocking on wood a part of many cultures?</td>\n",
       "      <td>What is the origin of \"knocking on wood\"?</td>\n",
       "      <td>0</td>\n",
       "    </tr>\n",
       "    <tr>\n",
       "      <th>403058</th>\n",
       "      <td>403058</td>\n",
       "      <td>177065</td>\n",
       "      <td>534864</td>\n",
       "      <td>What are mind-boggling facts about rich people?</td>\n",
       "      <td>What are some mind boggling facts about billio...</td>\n",
       "      <td>1</td>\n",
       "    </tr>\n",
       "    <tr>\n",
       "      <th>401473</th>\n",
       "      <td>401473</td>\n",
       "      <td>177066</td>\n",
       "      <td>534864</td>\n",
       "      <td>What are some mind-boggling facts about rich p...</td>\n",
       "      <td>What are some mind boggling facts about billio...</td>\n",
       "      <td>1</td>\n",
       "    </tr>\n",
       "  </tbody>\n",
       "</table>\n",
       "</div>"
      ],
      "text/plain": [
       "            id    qid1    qid2  \\\n",
       "399312  399312  219590  532565   \n",
       "400906  400906  534275  533534   \n",
       "400191  400191  533533  533534   \n",
       "403058  403058  177065  534864   \n",
       "401473  401473  177066  534864   \n",
       "\n",
       "                                                question1  \\\n",
       "399312                 How do astronauts shower in space?   \n",
       "400906  What is the origin of the saying \"knock on wood\"?   \n",
       "400191   Why is knocking on wood a part of many cultures?   \n",
       "403058    What are mind-boggling facts about rich people?   \n",
       "401473  What are some mind-boggling facts about rich p...   \n",
       "\n",
       "                                                question2  is_duplicate  \n",
       "399312                  How do astronauts bathe in space?             1  \n",
       "400906          What is the origin of \"knocking on wood\"?             1  \n",
       "400191          What is the origin of \"knocking on wood\"?             0  \n",
       "403058  What are some mind boggling facts about billio...             1  \n",
       "401473  What are some mind boggling facts about billio...             1  "
      ]
     },
     "execution_count": 16,
     "metadata": {},
     "output_type": "execute_result"
    }
   ],
   "source": [
    "print('Last 5 entries for qid2')\n",
    "train_q2_dup.tail()"
   ]
  },
  {
   "cell_type": "markdown",
   "metadata": {},
   "source": [
    "## say something about your analysis\n",
    "##\n",
    "##\n",
    "##\n",
    "##\n",
    "##\n"
   ]
  },
  {
   "cell_type": "code",
   "execution_count": 21,
   "metadata": {
    "collapsed": true
   },
   "outputs": [],
   "source": [
    "# duplicate pair\n",
    "q1_ids = set(train_q2_dup['id'])\n",
    "q2_ids = set(train_q1_dup['id'])\n"
   ]
  },
  {
   "cell_type": "code",
   "execution_count": 25,
   "metadata": {
    "collapsed": true
   },
   "outputs": [],
   "source": [
    "dup_pairs = list(q1_ids & q2_ids)"
   ]
  },
  {
   "cell_type": "code",
   "execution_count": 26,
   "metadata": {
    "collapsed": false
   },
   "outputs": [
    {
     "data": {
      "text/plain": [
       "99870"
      ]
     },
     "execution_count": 26,
     "metadata": {},
     "output_type": "execute_result"
    }
   ],
   "source": [
    "len(dup_pairs)"
   ]
  },
  {
   "cell_type": "code",
   "execution_count": 54,
   "metadata": {
    "collapsed": false
   },
   "outputs": [],
   "source": [
    "dup = train.filter(items=dup_pairs,  axis=0).sort_values(['qid1', 'qid2'], ascending=[True, False])"
   ]
  },
  {
   "cell_type": "code",
   "execution_count": 55,
   "metadata": {
    "collapsed": false
   },
   "outputs": [
    {
     "data": {
      "text/html": [
       "<div>\n",
       "<table border=\"1\" class=\"dataframe\">\n",
       "  <thead>\n",
       "    <tr style=\"text-align: right;\">\n",
       "      <th></th>\n",
       "      <th>id</th>\n",
       "      <th>qid1</th>\n",
       "      <th>qid2</th>\n",
       "      <th>question1</th>\n",
       "      <th>question2</th>\n",
       "      <th>is_duplicate</th>\n",
       "    </tr>\n",
       "  </thead>\n",
       "  <tbody>\n",
       "    <tr>\n",
       "      <th>126071</th>\n",
       "      <td>126071</td>\n",
       "      <td>9</td>\n",
       "      <td>109465</td>\n",
       "      <td>Which one dissolve in water quikly sugar, salt...</td>\n",
       "      <td>Which  freezes faster, sugar water or salt wat...</td>\n",
       "      <td>0</td>\n",
       "    </tr>\n",
       "    <tr>\n",
       "      <th>13</th>\n",
       "      <td>13</td>\n",
       "      <td>27</td>\n",
       "      <td>28</td>\n",
       "      <td>What was your first sexual experience like?</td>\n",
       "      <td>What was your first sexual experience?</td>\n",
       "      <td>1</td>\n",
       "    </tr>\n",
       "    <tr>\n",
       "      <th>80628</th>\n",
       "      <td>80628</td>\n",
       "      <td>29</td>\n",
       "      <td>44255</td>\n",
       "      <td>What are the laws to change your status from a...</td>\n",
       "      <td>What are the laws to change your status from a...</td>\n",
       "      <td>0</td>\n",
       "    </tr>\n",
       "    <tr>\n",
       "      <th>14</th>\n",
       "      <td>14</td>\n",
       "      <td>29</td>\n",
       "      <td>30</td>\n",
       "      <td>What are the laws to change your status from a...</td>\n",
       "      <td>What are the laws to change your status from a...</td>\n",
       "      <td>0</td>\n",
       "    </tr>\n",
       "    <tr>\n",
       "      <th>238955</th>\n",
       "      <td>238955</td>\n",
       "      <td>31</td>\n",
       "      <td>93145</td>\n",
       "      <td>What would a Trump presidency mean for current...</td>\n",
       "      <td>Will the Trump factor affect the admission of ...</td>\n",
       "      <td>1</td>\n",
       "    </tr>\n",
       "    <tr>\n",
       "      <th>215442</th>\n",
       "      <td>215442</td>\n",
       "      <td>31</td>\n",
       "      <td>88834</td>\n",
       "      <td>What would a Trump presidency mean for current...</td>\n",
       "      <td>How would a Trump presidency affect schools ac...</td>\n",
       "      <td>1</td>\n",
       "    </tr>\n",
       "    <tr>\n",
       "      <th>364513</th>\n",
       "      <td>364513</td>\n",
       "      <td>31</td>\n",
       "      <td>12544</td>\n",
       "      <td>What would a Trump presidency mean for current...</td>\n",
       "      <td>How will Trump's presidency affect prospective...</td>\n",
       "      <td>1</td>\n",
       "    </tr>\n",
       "    <tr>\n",
       "      <th>238721</th>\n",
       "      <td>238721</td>\n",
       "      <td>31</td>\n",
       "      <td>11435</td>\n",
       "      <td>What would a Trump presidency mean for current...</td>\n",
       "      <td>What will happen to international students in ...</td>\n",
       "      <td>1</td>\n",
       "    </tr>\n",
       "    <tr>\n",
       "      <th>160090</th>\n",
       "      <td>160090</td>\n",
       "      <td>31</td>\n",
       "      <td>6937</td>\n",
       "      <td>What would a Trump presidency mean for current...</td>\n",
       "      <td>How will Trump’s presidency affect internation...</td>\n",
       "      <td>1</td>\n",
       "    </tr>\n",
       "    <tr>\n",
       "      <th>218075</th>\n",
       "      <td>218075</td>\n",
       "      <td>31</td>\n",
       "      <td>1101</td>\n",
       "      <td>What would a Trump presidency mean for current...</td>\n",
       "      <td>How would Trump presidency affect Indian stude...</td>\n",
       "      <td>1</td>\n",
       "    </tr>\n",
       "  </tbody>\n",
       "</table>\n",
       "</div>"
      ],
      "text/plain": [
       "            id  qid1    qid2  \\\n",
       "126071  126071     9  109465   \n",
       "13          13    27      28   \n",
       "80628    80628    29   44255   \n",
       "14          14    29      30   \n",
       "238955  238955    31   93145   \n",
       "215442  215442    31   88834   \n",
       "364513  364513    31   12544   \n",
       "238721  238721    31   11435   \n",
       "160090  160090    31    6937   \n",
       "218075  218075    31    1101   \n",
       "\n",
       "                                                question1  \\\n",
       "126071  Which one dissolve in water quikly sugar, salt...   \n",
       "13            What was your first sexual experience like?   \n",
       "80628   What are the laws to change your status from a...   \n",
       "14      What are the laws to change your status from a...   \n",
       "238955  What would a Trump presidency mean for current...   \n",
       "215442  What would a Trump presidency mean for current...   \n",
       "364513  What would a Trump presidency mean for current...   \n",
       "238721  What would a Trump presidency mean for current...   \n",
       "160090  What would a Trump presidency mean for current...   \n",
       "218075  What would a Trump presidency mean for current...   \n",
       "\n",
       "                                                question2  is_duplicate  \n",
       "126071  Which  freezes faster, sugar water or salt wat...             0  \n",
       "13                 What was your first sexual experience?             1  \n",
       "80628   What are the laws to change your status from a...             0  \n",
       "14      What are the laws to change your status from a...             0  \n",
       "238955  Will the Trump factor affect the admission of ...             1  \n",
       "215442  How would a Trump presidency affect schools ac...             1  \n",
       "364513  How will Trump's presidency affect prospective...             1  \n",
       "238721  What will happen to international students in ...             1  \n",
       "160090  How will Trump’s presidency affect internation...             1  \n",
       "218075  How would Trump presidency affect Indian stude...             1  "
      ]
     },
     "execution_count": 55,
     "metadata": {},
     "output_type": "execute_result"
    }
   ],
   "source": [
    "dup.head(10)"
   ]
  },
  {
   "cell_type": "code",
   "execution_count": 48,
   "metadata": {
    "collapsed": false
   },
   "outputs": [
    {
     "data": {
      "text/html": [
       "<div>\n",
       "<table border=\"1\" class=\"dataframe\">\n",
       "  <thead>\n",
       "    <tr style=\"text-align: right;\">\n",
       "      <th></th>\n",
       "      <th>id</th>\n",
       "      <th>qid1</th>\n",
       "      <th>qid2</th>\n",
       "      <th>question1</th>\n",
       "      <th>question2</th>\n",
       "      <th>is_duplicate</th>\n",
       "    </tr>\n",
       "  </thead>\n",
       "  <tbody>\n",
       "    <tr>\n",
       "      <th>402369</th>\n",
       "      <td>402369</td>\n",
       "      <td>38436</td>\n",
       "      <td>18</td>\n",
       "      <td>When do you use \"into\" instead of \"in to\"?</td>\n",
       "      <td>When do you use \"&amp;\" instead of \"and\"?</td>\n",
       "      <td>0</td>\n",
       "    </tr>\n",
       "    <tr>\n",
       "      <th>65735</th>\n",
       "      <td>65735</td>\n",
       "      <td>114035</td>\n",
       "      <td>26</td>\n",
       "      <td>Is there a way to make learning physics easier?</td>\n",
       "      <td>How can you make physics easy to learn?</td>\n",
       "      <td>1</td>\n",
       "    </tr>\n",
       "    <tr>\n",
       "      <th>13</th>\n",
       "      <td>13</td>\n",
       "      <td>27</td>\n",
       "      <td>28</td>\n",
       "      <td>What was your first sexual experience like?</td>\n",
       "      <td>What was your first sexual experience?</td>\n",
       "      <td>1</td>\n",
       "    </tr>\n",
       "    <tr>\n",
       "      <th>185471</th>\n",
       "      <td>185471</td>\n",
       "      <td>261411</td>\n",
       "      <td>30</td>\n",
       "      <td>What are the laws to change your status from a...</td>\n",
       "      <td>What are the laws to change your status from a...</td>\n",
       "      <td>0</td>\n",
       "    </tr>\n",
       "    <tr>\n",
       "      <th>14</th>\n",
       "      <td>14</td>\n",
       "      <td>29</td>\n",
       "      <td>30</td>\n",
       "      <td>What are the laws to change your status from a...</td>\n",
       "      <td>What are the laws to change your status from a...</td>\n",
       "      <td>0</td>\n",
       "    </tr>\n",
       "  </tbody>\n",
       "</table>\n",
       "</div>"
      ],
      "text/plain": [
       "            id    qid1  qid2  \\\n",
       "402369  402369   38436    18   \n",
       "65735    65735  114035    26   \n",
       "13          13      27    28   \n",
       "185471  185471  261411    30   \n",
       "14          14      29    30   \n",
       "\n",
       "                                                question1  \\\n",
       "402369         When do you use \"into\" instead of \"in to\"?   \n",
       "65735     Is there a way to make learning physics easier?   \n",
       "13            What was your first sexual experience like?   \n",
       "185471  What are the laws to change your status from a...   \n",
       "14      What are the laws to change your status from a...   \n",
       "\n",
       "                                                question2  is_duplicate  \n",
       "402369              When do you use \"&\" instead of \"and\"?             0  \n",
       "65735             How can you make physics easy to learn?             1  \n",
       "13                 What was your first sexual experience?             1  \n",
       "185471  What are the laws to change your status from a...             0  \n",
       "14      What are the laws to change your status from a...             0  "
      ]
     },
     "execution_count": 48,
     "metadata": {},
     "output_type": "execute_result"
    }
   ],
   "source": [
    "dup2 = train.filter(items=dup_pairs,  axis=0).sort_values(['qid2'])\n",
    "dup2.head()"
   ]
  },
  {
   "cell_type": "code",
   "execution_count": null,
   "metadata": {
    "collapsed": true
   },
   "outputs": [],
   "source": [
    "# check if we have duplicated questions pairs"
   ]
  },
  {
   "cell_type": "code",
   "execution_count": 80,
   "metadata": {
    "collapsed": false
   },
   "outputs": [
    {
     "data": {
      "text/html": [
       "<div>\n",
       "<table border=\"1\" class=\"dataframe\">\n",
       "  <thead>\n",
       "    <tr style=\"text-align: right;\">\n",
       "      <th></th>\n",
       "      <th>id</th>\n",
       "      <th>qid1</th>\n",
       "      <th>qid2</th>\n",
       "      <th>question1</th>\n",
       "      <th>question2</th>\n",
       "      <th>is_duplicate</th>\n",
       "    </tr>\n",
       "  </thead>\n",
       "  <tbody>\n",
       "  </tbody>\n",
       "</table>\n",
       "</div>"
      ],
      "text/plain": [
       "Empty DataFrame\n",
       "Columns: [id, qid1, qid2, question1, question2, is_duplicate]\n",
       "Index: []"
      ]
     },
     "execution_count": 80,
     "metadata": {},
     "output_type": "execute_result"
    }
   ],
   "source": [
    "d = train.duplicated(['qid1', 'qid2']) \n",
    "ddup = train[d]\n",
    "ddup"
   ]
  },
  {
   "cell_type": "markdown",
   "metadata": {},
   "source": [
    "from above analysis we don't have any duplicated pairs of question.\n",
    "### write some conclusion\n",
    "# todo visualizations\n",
    "#\n",
    "#"
   ]
  },
  {
   "cell_type": "markdown",
   "metadata": {},
   "source": [
    "## Test analysis"
   ]
  },
  {
   "cell_type": "markdown",
   "metadata": {},
   "source": [
    "Now let's analyse text data"
   ]
  },
  {
   "cell_type": "code",
   "execution_count": null,
   "metadata": {
    "collapsed": true
   },
   "outputs": [],
   "source": []
  }
 ],
 "metadata": {
  "kernelspec": {
   "display_name": "Python 3",
   "language": "python",
   "name": "python3"
  },
  "language_info": {
   "codemirror_mode": {
    "name": "ipython",
    "version": 3
   },
   "file_extension": ".py",
   "mimetype": "text/x-python",
   "name": "python",
   "nbconvert_exporter": "python",
   "pygments_lexer": "ipython3",
   "version": "3.6.0"
  }
 },
 "nbformat": 4,
 "nbformat_minor": 2
}
