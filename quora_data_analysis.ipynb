{
 "cells": [
  {
   "cell_type": "markdown",
   "metadata": {},
   "source": [
    "## Import packages"
   ]
  },
  {
   "cell_type": "code",
   "execution_count": 3,
   "metadata": {},
   "outputs": [],
   "source": [
    "import pandas as pd\n",
    "import matplotlib.pyplot as plt\n",
    "import numpy as np\n",
    "import seaborn as sns\n",
    "import nltk\n",
    "import re, sys"
   ]
  },
  {
   "cell_type": "markdown",
   "metadata": {},
   "source": [
    "## Read the data"
   ]
  },
  {
   "cell_type": "code",
   "execution_count": 4,
   "metadata": {
    "collapsed": true
   },
   "outputs": [],
   "source": [
    "# read the data\n",
    "train = pd.read_csv('../data/train.csv')"
   ]
  },
  {
   "cell_type": "code",
   "execution_count": 5,
   "metadata": {
    "collapsed": true
   },
   "outputs": [],
   "source": [
    "# first look"
   ]
  },
  {
   "cell_type": "code",
   "execution_count": 6,
   "metadata": {},
   "outputs": [
    {
     "data": {
      "text/html": [
       "<div>\n",
       "<style>\n",
       "    .dataframe thead tr:only-child th {\n",
       "        text-align: right;\n",
       "    }\n",
       "\n",
       "    .dataframe thead th {\n",
       "        text-align: left;\n",
       "    }\n",
       "\n",
       "    .dataframe tbody tr th {\n",
       "        vertical-align: top;\n",
       "    }\n",
       "</style>\n",
       "<table border=\"1\" class=\"dataframe\">\n",
       "  <thead>\n",
       "    <tr style=\"text-align: right;\">\n",
       "      <th></th>\n",
       "      <th>id</th>\n",
       "      <th>qid1</th>\n",
       "      <th>qid2</th>\n",
       "      <th>question1</th>\n",
       "      <th>question2</th>\n",
       "      <th>is_duplicate</th>\n",
       "    </tr>\n",
       "  </thead>\n",
       "  <tbody>\n",
       "    <tr>\n",
       "      <th>0</th>\n",
       "      <td>0</td>\n",
       "      <td>1</td>\n",
       "      <td>2</td>\n",
       "      <td>What is the step by step guide to invest in sh...</td>\n",
       "      <td>What is the step by step guide to invest in sh...</td>\n",
       "      <td>0</td>\n",
       "    </tr>\n",
       "    <tr>\n",
       "      <th>1</th>\n",
       "      <td>1</td>\n",
       "      <td>3</td>\n",
       "      <td>4</td>\n",
       "      <td>What is the story of Kohinoor (Koh-i-Noor) Dia...</td>\n",
       "      <td>What would happen if the Indian government sto...</td>\n",
       "      <td>0</td>\n",
       "    </tr>\n",
       "    <tr>\n",
       "      <th>2</th>\n",
       "      <td>2</td>\n",
       "      <td>5</td>\n",
       "      <td>6</td>\n",
       "      <td>How can I increase the speed of my internet co...</td>\n",
       "      <td>How can Internet speed be increased by hacking...</td>\n",
       "      <td>0</td>\n",
       "    </tr>\n",
       "    <tr>\n",
       "      <th>3</th>\n",
       "      <td>3</td>\n",
       "      <td>7</td>\n",
       "      <td>8</td>\n",
       "      <td>Why am I mentally very lonely? How can I solve...</td>\n",
       "      <td>Find the remainder when [math]23^{24}[/math] i...</td>\n",
       "      <td>0</td>\n",
       "    </tr>\n",
       "    <tr>\n",
       "      <th>4</th>\n",
       "      <td>4</td>\n",
       "      <td>9</td>\n",
       "      <td>10</td>\n",
       "      <td>Which one dissolve in water quikly sugar, salt...</td>\n",
       "      <td>Which fish would survive in salt water?</td>\n",
       "      <td>0</td>\n",
       "    </tr>\n",
       "  </tbody>\n",
       "</table>\n",
       "</div>"
      ],
      "text/plain": [
       "   id  qid1  qid2                                          question1  \\\n",
       "0   0     1     2  What is the step by step guide to invest in sh...   \n",
       "1   1     3     4  What is the story of Kohinoor (Koh-i-Noor) Dia...   \n",
       "2   2     5     6  How can I increase the speed of my internet co...   \n",
       "3   3     7     8  Why am I mentally very lonely? How can I solve...   \n",
       "4   4     9    10  Which one dissolve in water quikly sugar, salt...   \n",
       "\n",
       "                                           question2  is_duplicate  \n",
       "0  What is the step by step guide to invest in sh...             0  \n",
       "1  What would happen if the Indian government sto...             0  \n",
       "2  How can Internet speed be increased by hacking...             0  \n",
       "3  Find the remainder when [math]23^{24}[/math] i...             0  \n",
       "4            Which fish would survive in salt water?             0  "
      ]
     },
     "execution_count": 6,
     "metadata": {},
     "output_type": "execute_result"
    }
   ],
   "source": [
    "train.head()"
   ]
  },
  {
   "cell_type": "code",
   "execution_count": 7,
   "metadata": {},
   "outputs": [
    {
     "name": "stdout",
     "output_type": "stream",
     "text": [
      "<class 'pandas.core.frame.DataFrame'>\n",
      "RangeIndex: 404290 entries, 0 to 404289\n",
      "Data columns (total 6 columns):\n",
      "id              404290 non-null int64\n",
      "qid1            404290 non-null int64\n",
      "qid2            404290 non-null int64\n",
      "question1       404290 non-null object\n",
      "question2       404288 non-null object\n",
      "is_duplicate    404290 non-null int64\n",
      "dtypes: int64(4), object(2)\n",
      "memory usage: 18.5+ MB\n"
     ]
    }
   ],
   "source": [
    "# summary information about the data\n",
    "train.info()"
   ]
  },
  {
   "cell_type": "markdown",
   "metadata": {},
   "source": [
    "## Todo : summary of data variable\n",
    "###\n",
    "###"
   ]
  },
  {
   "cell_type": "code",
   "execution_count": 9,
   "metadata": {},
   "outputs": [
    {
     "name": "stdout",
     "output_type": "stream",
     "text": [
      "The number of duplicated 'id' is: 0\n",
      "The number of duplicated 'qid1' is 113636\n",
      "The number of duplicated 'qid2' is 104926\n"
     ]
    }
   ],
   "source": [
    "# check for duplicated ids\n",
    "duplicated_id = sum(train.duplicated('id'))\n",
    "duplicated_qid1 = sum(train.duplicated('qid1'))\n",
    "duplicated_qid2 = sum(train.duplicated('qid2'))\n",
    "print(f\"The number of duplicated 'id' is: {duplicated_id}\")\n",
    "print(f\"The number of duplicated 'qid1' is {duplicated_qid1}\")\n",
    "print(f\"The number of duplicated 'qid2' is {duplicated_qid2}\")"
   ]
  },
  {
   "cell_type": "code",
   "execution_count": 10,
   "metadata": {},
   "outputs": [
    {
     "name": "stdout",
     "output_type": "stream",
     "text": [
      "Question 1 has 0 missing values\n",
      "Question 2 has 2 missing values\n"
     ]
    }
   ],
   "source": [
    "# let's remove missing value\n",
    "q1_nan = sum(train.question1.isnull())\n",
    "q2_nan = sum(train.question2.isnull())\n",
    "print(f'Question 1 has {q1_nan} missing values')\n",
    "print(f'Question 2 has {q2_nan} missing values')"
   ]
  },
  {
   "cell_type": "code",
   "execution_count": 11,
   "metadata": {},
   "outputs": [
    {
     "data": {
      "text/html": [
       "<div>\n",
       "<style>\n",
       "    .dataframe thead tr:only-child th {\n",
       "        text-align: right;\n",
       "    }\n",
       "\n",
       "    .dataframe thead th {\n",
       "        text-align: left;\n",
       "    }\n",
       "\n",
       "    .dataframe tbody tr th {\n",
       "        vertical-align: top;\n",
       "    }\n",
       "</style>\n",
       "<table border=\"1\" class=\"dataframe\">\n",
       "  <thead>\n",
       "    <tr style=\"text-align: right;\">\n",
       "      <th></th>\n",
       "      <th>id</th>\n",
       "      <th>qid1</th>\n",
       "      <th>qid2</th>\n",
       "      <th>question1</th>\n",
       "      <th>question2</th>\n",
       "      <th>is_duplicate</th>\n",
       "    </tr>\n",
       "  </thead>\n",
       "  <tbody>\n",
       "    <tr>\n",
       "      <th>105780</th>\n",
       "      <td>105780</td>\n",
       "      <td>174363</td>\n",
       "      <td>174364</td>\n",
       "      <td>How can I develop android app?</td>\n",
       "      <td>NaN</td>\n",
       "      <td>0</td>\n",
       "    </tr>\n",
       "    <tr>\n",
       "      <th>201841</th>\n",
       "      <td>201841</td>\n",
       "      <td>303951</td>\n",
       "      <td>174364</td>\n",
       "      <td>How can I create an Android app?</td>\n",
       "      <td>NaN</td>\n",
       "      <td>0</td>\n",
       "    </tr>\n",
       "  </tbody>\n",
       "</table>\n",
       "</div>"
      ],
      "text/plain": [
       "            id    qid1    qid2                         question1 question2  \\\n",
       "105780  105780  174363  174364    How can I develop android app?       NaN   \n",
       "201841  201841  303951  174364  How can I create an Android app?       NaN   \n",
       "\n",
       "        is_duplicate  \n",
       "105780             0  \n",
       "201841             0  "
      ]
     },
     "execution_count": 11,
     "metadata": {},
     "output_type": "execute_result"
    }
   ],
   "source": [
    "# question 2 missing entries\n",
    "train[train.question2.isnull()]"
   ]
  },
  {
   "cell_type": "code",
   "execution_count": 12,
   "metadata": {},
   "outputs": [
    {
     "data": {
      "text/html": [
       "<div>\n",
       "<style>\n",
       "    .dataframe thead tr:only-child th {\n",
       "        text-align: right;\n",
       "    }\n",
       "\n",
       "    .dataframe thead th {\n",
       "        text-align: left;\n",
       "    }\n",
       "\n",
       "    .dataframe tbody tr th {\n",
       "        vertical-align: top;\n",
       "    }\n",
       "</style>\n",
       "<table border=\"1\" class=\"dataframe\">\n",
       "  <thead>\n",
       "    <tr style=\"text-align: right;\">\n",
       "      <th></th>\n",
       "      <th>id</th>\n",
       "      <th>qid1</th>\n",
       "      <th>qid2</th>\n",
       "      <th>question1</th>\n",
       "      <th>question2</th>\n",
       "      <th>is_duplicate</th>\n",
       "    </tr>\n",
       "  </thead>\n",
       "  <tbody>\n",
       "  </tbody>\n",
       "</table>\n",
       "</div>"
      ],
      "text/plain": [
       "Empty DataFrame\n",
       "Columns: [id, qid1, qid2, question1, question2, is_duplicate]\n",
       "Index: []"
      ]
     },
     "execution_count": 12,
     "metadata": {},
     "output_type": "execute_result"
    }
   ],
   "source": [
    "# question 1 missing entries\n",
    "train[train.question1.isnull()]"
   ]
  },
  {
   "cell_type": "code",
   "execution_count": 13,
   "metadata": {},
   "outputs": [
    {
     "data": {
      "text/html": [
       "<div>\n",
       "<style>\n",
       "    .dataframe thead tr:only-child th {\n",
       "        text-align: right;\n",
       "    }\n",
       "\n",
       "    .dataframe thead th {\n",
       "        text-align: left;\n",
       "    }\n",
       "\n",
       "    .dataframe tbody tr th {\n",
       "        vertical-align: top;\n",
       "    }\n",
       "</style>\n",
       "<table border=\"1\" class=\"dataframe\">\n",
       "  <thead>\n",
       "    <tr style=\"text-align: right;\">\n",
       "      <th></th>\n",
       "      <th>id</th>\n",
       "      <th>qid1</th>\n",
       "      <th>qid2</th>\n",
       "      <th>question1</th>\n",
       "      <th>question2</th>\n",
       "      <th>is_duplicate</th>\n",
       "    </tr>\n",
       "  </thead>\n",
       "  <tbody>\n",
       "  </tbody>\n",
       "</table>\n",
       "</div>"
      ],
      "text/plain": [
       "Empty DataFrame\n",
       "Columns: [id, qid1, qid2, question1, question2, is_duplicate]\n",
       "Index: []"
      ]
     },
     "execution_count": 13,
     "metadata": {},
     "output_type": "execute_result"
    }
   ],
   "source": [
    "# let's remove question 2 missing entries\n",
    "train.drop(train.index[[105780,201841]], inplace=True)\n",
    "\n",
    "# verify \n",
    "train[train.question2.isnull()]"
   ]
  },
  {
   "cell_type": "code",
   "execution_count": 14,
   "metadata": {},
   "outputs": [
    {
     "name": "stdout",
     "output_type": "stream",
     "text": [
      "The total number of qid1 that appears more than once is 167707\n",
      "The number of qid2 that appears more than once is 167707\n"
     ]
    }
   ],
   "source": [
    "# Let's look at the repeated questions in each columns.\n",
    "\n",
    "# get the number question1 ids that appear more than once\n",
    "q1 = train['qid1']\n",
    "q1_dup = train[q1.isin(q1[q1.duplicated()])].shape[0]\n",
    "print(f'The total number of qid1 that appears more than once is {q1_dup}')\n",
    "\n",
    "# get the number of question2 ids that appears more than once\n",
    "q2 = train['qid2']\n",
    "q2_dup = train[q1.isin(q1[q1.duplicated()])].shape[0]\n",
    "print(f'The number of qid2 that appears more than once is {q2_dup}')"
   ]
  },
  {
   "cell_type": "code",
   "execution_count": 15,
   "metadata": {
    "collapsed": true
   },
   "outputs": [],
   "source": [
    "# Now let's look at the questions corresponding to those ids\n",
    "train_q1_dup = train[q1.isin(q1[q1.duplicated()])].sort_values('qid1')\n",
    "train_q2_dup = train[q2.isin(q2[q2.duplicated()])].sort_values('qid2')"
   ]
  },
  {
   "cell_type": "code",
   "execution_count": 16,
   "metadata": {},
   "outputs": [
    {
     "name": "stdout",
     "output_type": "stream",
     "text": [
      "First 5 entries for qid1\n"
     ]
    },
    {
     "data": {
      "text/html": [
       "<div>\n",
       "<style>\n",
       "    .dataframe thead tr:only-child th {\n",
       "        text-align: right;\n",
       "    }\n",
       "\n",
       "    .dataframe thead th {\n",
       "        text-align: left;\n",
       "    }\n",
       "\n",
       "    .dataframe tbody tr th {\n",
       "        vertical-align: top;\n",
       "    }\n",
       "</style>\n",
       "<table border=\"1\" class=\"dataframe\">\n",
       "  <thead>\n",
       "    <tr style=\"text-align: right;\">\n",
       "      <th></th>\n",
       "      <th>id</th>\n",
       "      <th>qid1</th>\n",
       "      <th>qid2</th>\n",
       "      <th>question1</th>\n",
       "      <th>question2</th>\n",
       "      <th>is_duplicate</th>\n",
       "    </tr>\n",
       "  </thead>\n",
       "  <tbody>\n",
       "    <tr>\n",
       "      <th>1</th>\n",
       "      <td>1</td>\n",
       "      <td>3</td>\n",
       "      <td>4</td>\n",
       "      <td>What is the story of Kohinoor (Koh-i-Noor) Dia...</td>\n",
       "      <td>What would happen if the Indian government sto...</td>\n",
       "      <td>0</td>\n",
       "    </tr>\n",
       "    <tr>\n",
       "      <th>359232</th>\n",
       "      <td>359232</td>\n",
       "      <td>3</td>\n",
       "      <td>488853</td>\n",
       "      <td>What is the story of Kohinoor (Koh-i-Noor) Dia...</td>\n",
       "      <td>Could India keep the Koh-I-Noor safe?</td>\n",
       "      <td>0</td>\n",
       "    </tr>\n",
       "    <tr>\n",
       "      <th>263614</th>\n",
       "      <td>263614</td>\n",
       "      <td>3</td>\n",
       "      <td>380197</td>\n",
       "      <td>What is the story of Kohinoor (Koh-i-Noor) Dia...</td>\n",
       "      <td>What are some interesting facts about Kohinoor...</td>\n",
       "      <td>0</td>\n",
       "    </tr>\n",
       "    <tr>\n",
       "      <th>184732</th>\n",
       "      <td>184732</td>\n",
       "      <td>3</td>\n",
       "      <td>282170</td>\n",
       "      <td>What is the story of Kohinoor (Koh-i-Noor) Dia...</td>\n",
       "      <td>Is it possible to melt down diamonds?</td>\n",
       "      <td>0</td>\n",
       "    </tr>\n",
       "    <tr>\n",
       "      <th>4</th>\n",
       "      <td>4</td>\n",
       "      <td>9</td>\n",
       "      <td>10</td>\n",
       "      <td>Which one dissolve in water quikly sugar, salt...</td>\n",
       "      <td>Which fish would survive in salt water?</td>\n",
       "      <td>0</td>\n",
       "    </tr>\n",
       "  </tbody>\n",
       "</table>\n",
       "</div>"
      ],
      "text/plain": [
       "            id  qid1    qid2  \\\n",
       "1            1     3       4   \n",
       "359232  359232     3  488853   \n",
       "263614  263614     3  380197   \n",
       "184732  184732     3  282170   \n",
       "4            4     9      10   \n",
       "\n",
       "                                                question1  \\\n",
       "1       What is the story of Kohinoor (Koh-i-Noor) Dia...   \n",
       "359232  What is the story of Kohinoor (Koh-i-Noor) Dia...   \n",
       "263614  What is the story of Kohinoor (Koh-i-Noor) Dia...   \n",
       "184732  What is the story of Kohinoor (Koh-i-Noor) Dia...   \n",
       "4       Which one dissolve in water quikly sugar, salt...   \n",
       "\n",
       "                                                question2  is_duplicate  \n",
       "1       What would happen if the Indian government sto...             0  \n",
       "359232              Could India keep the Koh-I-Noor safe?             0  \n",
       "263614  What are some interesting facts about Kohinoor...             0  \n",
       "184732              Is it possible to melt down diamonds?             0  \n",
       "4                 Which fish would survive in salt water?             0  "
      ]
     },
     "execution_count": 16,
     "metadata": {},
     "output_type": "execute_result"
    }
   ],
   "source": [
    "# let's check\n",
    "print('First 5 entries for qid1')\n",
    "train_q1_dup.head()"
   ]
  },
  {
   "cell_type": "code",
   "execution_count": 17,
   "metadata": {},
   "outputs": [
    {
     "name": "stdout",
     "output_type": "stream",
     "text": [
      "Last 5 entries for qid1\n"
     ]
    },
    {
     "data": {
      "text/html": [
       "<div>\n",
       "<style>\n",
       "    .dataframe thead tr:only-child th {\n",
       "        text-align: right;\n",
       "    }\n",
       "\n",
       "    .dataframe thead th {\n",
       "        text-align: left;\n",
       "    }\n",
       "\n",
       "    .dataframe tbody tr th {\n",
       "        vertical-align: top;\n",
       "    }\n",
       "</style>\n",
       "<table border=\"1\" class=\"dataframe\">\n",
       "  <thead>\n",
       "    <tr style=\"text-align: right;\">\n",
       "      <th></th>\n",
       "      <th>id</th>\n",
       "      <th>qid1</th>\n",
       "      <th>qid2</th>\n",
       "      <th>question1</th>\n",
       "      <th>question2</th>\n",
       "      <th>is_duplicate</th>\n",
       "    </tr>\n",
       "  </thead>\n",
       "  <tbody>\n",
       "    <tr>\n",
       "      <th>403750</th>\n",
       "      <td>403750</td>\n",
       "      <td>532883</td>\n",
       "      <td>537349</td>\n",
       "      <td>What does “天人” mean in English?</td>\n",
       "      <td>What does ''bientot'' mean in English?</td>\n",
       "      <td>0</td>\n",
       "    </tr>\n",
       "    <tr>\n",
       "      <th>400745</th>\n",
       "      <td>400745</td>\n",
       "      <td>534098</td>\n",
       "      <td>78019</td>\n",
       "      <td>What is a career path?</td>\n",
       "      <td>What is the career path of a recruiter?</td>\n",
       "      <td>0</td>\n",
       "    </tr>\n",
       "    <tr>\n",
       "      <th>403461</th>\n",
       "      <td>403461</td>\n",
       "      <td>534098</td>\n",
       "      <td>537043</td>\n",
       "      <td>What is a career path?</td>\n",
       "      <td>What is the career path for a doctor?</td>\n",
       "      <td>0</td>\n",
       "    </tr>\n",
       "    <tr>\n",
       "      <th>404120</th>\n",
       "      <td>404120</td>\n",
       "      <td>535331</td>\n",
       "      <td>254941</td>\n",
       "      <td>What should I say when someone is expressing c...</td>\n",
       "      <td>What does it mean to be \"people smart\"?</td>\n",
       "      <td>0</td>\n",
       "    </tr>\n",
       "    <tr>\n",
       "      <th>401886</th>\n",
       "      <td>401886</td>\n",
       "      <td>535331</td>\n",
       "      <td>535332</td>\n",
       "      <td>What should I say when someone is expressing c...</td>\n",
       "      <td>How can you tell when someone is faking confid...</td>\n",
       "      <td>0</td>\n",
       "    </tr>\n",
       "  </tbody>\n",
       "</table>\n",
       "</div>"
      ],
      "text/plain": [
       "            id    qid1    qid2  \\\n",
       "403750  403750  532883  537349   \n",
       "400745  400745  534098   78019   \n",
       "403461  403461  534098  537043   \n",
       "404120  404120  535331  254941   \n",
       "401886  401886  535331  535332   \n",
       "\n",
       "                                                question1  \\\n",
       "403750                    What does “天人” mean in English?   \n",
       "400745                             What is a career path?   \n",
       "403461                             What is a career path?   \n",
       "404120  What should I say when someone is expressing c...   \n",
       "401886  What should I say when someone is expressing c...   \n",
       "\n",
       "                                                question2  is_duplicate  \n",
       "403750             What does ''bientot'' mean in English?             0  \n",
       "400745            What is the career path of a recruiter?             0  \n",
       "403461              What is the career path for a doctor?             0  \n",
       "404120            What does it mean to be \"people smart\"?             0  \n",
       "401886  How can you tell when someone is faking confid...             0  "
      ]
     },
     "execution_count": 17,
     "metadata": {},
     "output_type": "execute_result"
    }
   ],
   "source": [
    "print('Last 5 entries for qid1')\n",
    "train_q1_dup.tail()"
   ]
  },
  {
   "cell_type": "code",
   "execution_count": 18,
   "metadata": {},
   "outputs": [
    {
     "name": "stdout",
     "output_type": "stream",
     "text": [
      "First 5 entries for qid2\n"
     ]
    },
    {
     "data": {
      "text/html": [
       "<div>\n",
       "<style>\n",
       "    .dataframe thead tr:only-child th {\n",
       "        text-align: right;\n",
       "    }\n",
       "\n",
       "    .dataframe thead th {\n",
       "        text-align: left;\n",
       "    }\n",
       "\n",
       "    .dataframe tbody tr th {\n",
       "        vertical-align: top;\n",
       "    }\n",
       "</style>\n",
       "<table border=\"1\" class=\"dataframe\">\n",
       "  <thead>\n",
       "    <tr style=\"text-align: right;\">\n",
       "      <th></th>\n",
       "      <th>id</th>\n",
       "      <th>qid1</th>\n",
       "      <th>qid2</th>\n",
       "      <th>question1</th>\n",
       "      <th>question2</th>\n",
       "      <th>is_duplicate</th>\n",
       "    </tr>\n",
       "  </thead>\n",
       "  <tbody>\n",
       "    <tr>\n",
       "      <th>8</th>\n",
       "      <td>8</td>\n",
       "      <td>17</td>\n",
       "      <td>18</td>\n",
       "      <td>When do you use シ instead of し?</td>\n",
       "      <td>When do you use \"&amp;\" instead of \"and\"?</td>\n",
       "      <td>0</td>\n",
       "    </tr>\n",
       "    <tr>\n",
       "      <th>402369</th>\n",
       "      <td>402369</td>\n",
       "      <td>38436</td>\n",
       "      <td>18</td>\n",
       "      <td>When do you use \"into\" instead of \"in to\"?</td>\n",
       "      <td>When do you use \"&amp;\" instead of \"and\"?</td>\n",
       "      <td>0</td>\n",
       "    </tr>\n",
       "    <tr>\n",
       "      <th>65735</th>\n",
       "      <td>65735</td>\n",
       "      <td>114035</td>\n",
       "      <td>26</td>\n",
       "      <td>Is there a way to make learning physics easier?</td>\n",
       "      <td>How can you make physics easy to learn?</td>\n",
       "      <td>1</td>\n",
       "    </tr>\n",
       "    <tr>\n",
       "      <th>12</th>\n",
       "      <td>12</td>\n",
       "      <td>25</td>\n",
       "      <td>26</td>\n",
       "      <td>What can make Physics easy to learn?</td>\n",
       "      <td>How can you make physics easy to learn?</td>\n",
       "      <td>1</td>\n",
       "    </tr>\n",
       "    <tr>\n",
       "      <th>13</th>\n",
       "      <td>13</td>\n",
       "      <td>27</td>\n",
       "      <td>28</td>\n",
       "      <td>What was your first sexual experience like?</td>\n",
       "      <td>What was your first sexual experience?</td>\n",
       "      <td>1</td>\n",
       "    </tr>\n",
       "  </tbody>\n",
       "</table>\n",
       "</div>"
      ],
      "text/plain": [
       "            id    qid1  qid2                                        question1  \\\n",
       "8            8      17    18                  When do you use シ instead of し?   \n",
       "402369  402369   38436    18       When do you use \"into\" instead of \"in to\"?   \n",
       "65735    65735  114035    26  Is there a way to make learning physics easier?   \n",
       "12          12      25    26             What can make Physics easy to learn?   \n",
       "13          13      27    28      What was your first sexual experience like?   \n",
       "\n",
       "                                      question2  is_duplicate  \n",
       "8         When do you use \"&\" instead of \"and\"?             0  \n",
       "402369    When do you use \"&\" instead of \"and\"?             0  \n",
       "65735   How can you make physics easy to learn?             1  \n",
       "12      How can you make physics easy to learn?             1  \n",
       "13       What was your first sexual experience?             1  "
      ]
     },
     "execution_count": 18,
     "metadata": {},
     "output_type": "execute_result"
    }
   ],
   "source": [
    "print('First 5 entries for qid2')\n",
    "train_q2_dup.head()"
   ]
  },
  {
   "cell_type": "code",
   "execution_count": 19,
   "metadata": {},
   "outputs": [
    {
     "name": "stdout",
     "output_type": "stream",
     "text": [
      "Last 5 entries for qid2\n"
     ]
    },
    {
     "data": {
      "text/html": [
       "<div>\n",
       "<style>\n",
       "    .dataframe thead tr:only-child th {\n",
       "        text-align: right;\n",
       "    }\n",
       "\n",
       "    .dataframe thead th {\n",
       "        text-align: left;\n",
       "    }\n",
       "\n",
       "    .dataframe tbody tr th {\n",
       "        vertical-align: top;\n",
       "    }\n",
       "</style>\n",
       "<table border=\"1\" class=\"dataframe\">\n",
       "  <thead>\n",
       "    <tr style=\"text-align: right;\">\n",
       "      <th></th>\n",
       "      <th>id</th>\n",
       "      <th>qid1</th>\n",
       "      <th>qid2</th>\n",
       "      <th>question1</th>\n",
       "      <th>question2</th>\n",
       "      <th>is_duplicate</th>\n",
       "    </tr>\n",
       "  </thead>\n",
       "  <tbody>\n",
       "    <tr>\n",
       "      <th>399312</th>\n",
       "      <td>399312</td>\n",
       "      <td>219590</td>\n",
       "      <td>532565</td>\n",
       "      <td>How do astronauts shower in space?</td>\n",
       "      <td>How do astronauts bathe in space?</td>\n",
       "      <td>1</td>\n",
       "    </tr>\n",
       "    <tr>\n",
       "      <th>400906</th>\n",
       "      <td>400906</td>\n",
       "      <td>534275</td>\n",
       "      <td>533534</td>\n",
       "      <td>What is the origin of the saying \"knock on wood\"?</td>\n",
       "      <td>What is the origin of \"knocking on wood\"?</td>\n",
       "      <td>1</td>\n",
       "    </tr>\n",
       "    <tr>\n",
       "      <th>400191</th>\n",
       "      <td>400191</td>\n",
       "      <td>533533</td>\n",
       "      <td>533534</td>\n",
       "      <td>Why is knocking on wood a part of many cultures?</td>\n",
       "      <td>What is the origin of \"knocking on wood\"?</td>\n",
       "      <td>0</td>\n",
       "    </tr>\n",
       "    <tr>\n",
       "      <th>403058</th>\n",
       "      <td>403058</td>\n",
       "      <td>177065</td>\n",
       "      <td>534864</td>\n",
       "      <td>What are mind-boggling facts about rich people?</td>\n",
       "      <td>What are some mind boggling facts about billio...</td>\n",
       "      <td>1</td>\n",
       "    </tr>\n",
       "    <tr>\n",
       "      <th>401473</th>\n",
       "      <td>401473</td>\n",
       "      <td>177066</td>\n",
       "      <td>534864</td>\n",
       "      <td>What are some mind-boggling facts about rich p...</td>\n",
       "      <td>What are some mind boggling facts about billio...</td>\n",
       "      <td>1</td>\n",
       "    </tr>\n",
       "  </tbody>\n",
       "</table>\n",
       "</div>"
      ],
      "text/plain": [
       "            id    qid1    qid2  \\\n",
       "399312  399312  219590  532565   \n",
       "400906  400906  534275  533534   \n",
       "400191  400191  533533  533534   \n",
       "403058  403058  177065  534864   \n",
       "401473  401473  177066  534864   \n",
       "\n",
       "                                                question1  \\\n",
       "399312                 How do astronauts shower in space?   \n",
       "400906  What is the origin of the saying \"knock on wood\"?   \n",
       "400191   Why is knocking on wood a part of many cultures?   \n",
       "403058    What are mind-boggling facts about rich people?   \n",
       "401473  What are some mind-boggling facts about rich p...   \n",
       "\n",
       "                                                question2  is_duplicate  \n",
       "399312                  How do astronauts bathe in space?             1  \n",
       "400906          What is the origin of \"knocking on wood\"?             1  \n",
       "400191          What is the origin of \"knocking on wood\"?             0  \n",
       "403058  What are some mind boggling facts about billio...             1  \n",
       "401473  What are some mind boggling facts about billio...             1  "
      ]
     },
     "execution_count": 19,
     "metadata": {},
     "output_type": "execute_result"
    }
   ],
   "source": [
    "print('Last 5 entries for qid2')\n",
    "train_q2_dup.tail()"
   ]
  },
  {
   "cell_type": "markdown",
   "metadata": {},
   "source": [
    "## say something about your analysis\n",
    "##\n",
    "##\n",
    "##\n",
    "##\n",
    "##\n"
   ]
  },
  {
   "cell_type": "code",
   "execution_count": 20,
   "metadata": {
    "collapsed": true
   },
   "outputs": [],
   "source": [
    "# duplicate pair\n",
    "q1_ids = set(train_q2_dup['id'])\n",
    "q2_ids = set(train_q1_dup['id'])\n"
   ]
  },
  {
   "cell_type": "code",
   "execution_count": 21,
   "metadata": {
    "collapsed": true
   },
   "outputs": [],
   "source": [
    "dup_pairs = list(q1_ids & q2_ids)"
   ]
  },
  {
   "cell_type": "code",
   "execution_count": 22,
   "metadata": {},
   "outputs": [
    {
     "data": {
      "text/plain": [
       "99870"
      ]
     },
     "execution_count": 22,
     "metadata": {},
     "output_type": "execute_result"
    }
   ],
   "source": [
    "len(dup_pairs)"
   ]
  },
  {
   "cell_type": "code",
   "execution_count": 23,
   "metadata": {},
   "outputs": [],
   "source": [
    "dup = train.filter(items=dup_pairs,  axis=0).sort_values(['qid1', 'qid2'], ascending=[True, False])"
   ]
  },
  {
   "cell_type": "code",
   "execution_count": 24,
   "metadata": {},
   "outputs": [
    {
     "data": {
      "text/html": [
       "<div>\n",
       "<style>\n",
       "    .dataframe thead tr:only-child th {\n",
       "        text-align: right;\n",
       "    }\n",
       "\n",
       "    .dataframe thead th {\n",
       "        text-align: left;\n",
       "    }\n",
       "\n",
       "    .dataframe tbody tr th {\n",
       "        vertical-align: top;\n",
       "    }\n",
       "</style>\n",
       "<table border=\"1\" class=\"dataframe\">\n",
       "  <thead>\n",
       "    <tr style=\"text-align: right;\">\n",
       "      <th></th>\n",
       "      <th>id</th>\n",
       "      <th>qid1</th>\n",
       "      <th>qid2</th>\n",
       "      <th>question1</th>\n",
       "      <th>question2</th>\n",
       "      <th>is_duplicate</th>\n",
       "    </tr>\n",
       "  </thead>\n",
       "  <tbody>\n",
       "    <tr>\n",
       "      <th>126071</th>\n",
       "      <td>126071</td>\n",
       "      <td>9</td>\n",
       "      <td>109465</td>\n",
       "      <td>Which one dissolve in water quikly sugar, salt...</td>\n",
       "      <td>Which  freezes faster, sugar water or salt wat...</td>\n",
       "      <td>0</td>\n",
       "    </tr>\n",
       "    <tr>\n",
       "      <th>13</th>\n",
       "      <td>13</td>\n",
       "      <td>27</td>\n",
       "      <td>28</td>\n",
       "      <td>What was your first sexual experience like?</td>\n",
       "      <td>What was your first sexual experience?</td>\n",
       "      <td>1</td>\n",
       "    </tr>\n",
       "    <tr>\n",
       "      <th>80628</th>\n",
       "      <td>80628</td>\n",
       "      <td>29</td>\n",
       "      <td>44255</td>\n",
       "      <td>What are the laws to change your status from a...</td>\n",
       "      <td>What are the laws to change your status from a...</td>\n",
       "      <td>0</td>\n",
       "    </tr>\n",
       "    <tr>\n",
       "      <th>14</th>\n",
       "      <td>14</td>\n",
       "      <td>29</td>\n",
       "      <td>30</td>\n",
       "      <td>What are the laws to change your status from a...</td>\n",
       "      <td>What are the laws to change your status from a...</td>\n",
       "      <td>0</td>\n",
       "    </tr>\n",
       "    <tr>\n",
       "      <th>238955</th>\n",
       "      <td>238955</td>\n",
       "      <td>31</td>\n",
       "      <td>93145</td>\n",
       "      <td>What would a Trump presidency mean for current...</td>\n",
       "      <td>Will the Trump factor affect the admission of ...</td>\n",
       "      <td>1</td>\n",
       "    </tr>\n",
       "    <tr>\n",
       "      <th>215442</th>\n",
       "      <td>215442</td>\n",
       "      <td>31</td>\n",
       "      <td>88834</td>\n",
       "      <td>What would a Trump presidency mean for current...</td>\n",
       "      <td>How would a Trump presidency affect schools ac...</td>\n",
       "      <td>1</td>\n",
       "    </tr>\n",
       "    <tr>\n",
       "      <th>364513</th>\n",
       "      <td>364513</td>\n",
       "      <td>31</td>\n",
       "      <td>12544</td>\n",
       "      <td>What would a Trump presidency mean for current...</td>\n",
       "      <td>How will Trump's presidency affect prospective...</td>\n",
       "      <td>1</td>\n",
       "    </tr>\n",
       "    <tr>\n",
       "      <th>238721</th>\n",
       "      <td>238721</td>\n",
       "      <td>31</td>\n",
       "      <td>11435</td>\n",
       "      <td>What would a Trump presidency mean for current...</td>\n",
       "      <td>What will happen to international students in ...</td>\n",
       "      <td>1</td>\n",
       "    </tr>\n",
       "    <tr>\n",
       "      <th>160090</th>\n",
       "      <td>160090</td>\n",
       "      <td>31</td>\n",
       "      <td>6937</td>\n",
       "      <td>What would a Trump presidency mean for current...</td>\n",
       "      <td>How will Trump’s presidency affect internation...</td>\n",
       "      <td>1</td>\n",
       "    </tr>\n",
       "    <tr>\n",
       "      <th>218075</th>\n",
       "      <td>218075</td>\n",
       "      <td>31</td>\n",
       "      <td>1101</td>\n",
       "      <td>What would a Trump presidency mean for current...</td>\n",
       "      <td>How would Trump presidency affect Indian stude...</td>\n",
       "      <td>1</td>\n",
       "    </tr>\n",
       "  </tbody>\n",
       "</table>\n",
       "</div>"
      ],
      "text/plain": [
       "            id  qid1    qid2  \\\n",
       "126071  126071     9  109465   \n",
       "13          13    27      28   \n",
       "80628    80628    29   44255   \n",
       "14          14    29      30   \n",
       "238955  238955    31   93145   \n",
       "215442  215442    31   88834   \n",
       "364513  364513    31   12544   \n",
       "238721  238721    31   11435   \n",
       "160090  160090    31    6937   \n",
       "218075  218075    31    1101   \n",
       "\n",
       "                                                question1  \\\n",
       "126071  Which one dissolve in water quikly sugar, salt...   \n",
       "13            What was your first sexual experience like?   \n",
       "80628   What are the laws to change your status from a...   \n",
       "14      What are the laws to change your status from a...   \n",
       "238955  What would a Trump presidency mean for current...   \n",
       "215442  What would a Trump presidency mean for current...   \n",
       "364513  What would a Trump presidency mean for current...   \n",
       "238721  What would a Trump presidency mean for current...   \n",
       "160090  What would a Trump presidency mean for current...   \n",
       "218075  What would a Trump presidency mean for current...   \n",
       "\n",
       "                                                question2  is_duplicate  \n",
       "126071  Which  freezes faster, sugar water or salt wat...             0  \n",
       "13                 What was your first sexual experience?             1  \n",
       "80628   What are the laws to change your status from a...             0  \n",
       "14      What are the laws to change your status from a...             0  \n",
       "238955  Will the Trump factor affect the admission of ...             1  \n",
       "215442  How would a Trump presidency affect schools ac...             1  \n",
       "364513  How will Trump's presidency affect prospective...             1  \n",
       "238721  What will happen to international students in ...             1  \n",
       "160090  How will Trump’s presidency affect internation...             1  \n",
       "218075  How would Trump presidency affect Indian stude...             1  "
      ]
     },
     "execution_count": 24,
     "metadata": {},
     "output_type": "execute_result"
    }
   ],
   "source": [
    "dup.head(10)"
   ]
  },
  {
   "cell_type": "code",
   "execution_count": 25,
   "metadata": {},
   "outputs": [
    {
     "data": {
      "text/html": [
       "<div>\n",
       "<style>\n",
       "    .dataframe thead tr:only-child th {\n",
       "        text-align: right;\n",
       "    }\n",
       "\n",
       "    .dataframe thead th {\n",
       "        text-align: left;\n",
       "    }\n",
       "\n",
       "    .dataframe tbody tr th {\n",
       "        vertical-align: top;\n",
       "    }\n",
       "</style>\n",
       "<table border=\"1\" class=\"dataframe\">\n",
       "  <thead>\n",
       "    <tr style=\"text-align: right;\">\n",
       "      <th></th>\n",
       "      <th>id</th>\n",
       "      <th>qid1</th>\n",
       "      <th>qid2</th>\n",
       "      <th>question1</th>\n",
       "      <th>question2</th>\n",
       "      <th>is_duplicate</th>\n",
       "    </tr>\n",
       "  </thead>\n",
       "  <tbody>\n",
       "    <tr>\n",
       "      <th>402369</th>\n",
       "      <td>402369</td>\n",
       "      <td>38436</td>\n",
       "      <td>18</td>\n",
       "      <td>When do you use \"into\" instead of \"in to\"?</td>\n",
       "      <td>When do you use \"&amp;\" instead of \"and\"?</td>\n",
       "      <td>0</td>\n",
       "    </tr>\n",
       "    <tr>\n",
       "      <th>65735</th>\n",
       "      <td>65735</td>\n",
       "      <td>114035</td>\n",
       "      <td>26</td>\n",
       "      <td>Is there a way to make learning physics easier?</td>\n",
       "      <td>How can you make physics easy to learn?</td>\n",
       "      <td>1</td>\n",
       "    </tr>\n",
       "    <tr>\n",
       "      <th>13</th>\n",
       "      <td>13</td>\n",
       "      <td>27</td>\n",
       "      <td>28</td>\n",
       "      <td>What was your first sexual experience like?</td>\n",
       "      <td>What was your first sexual experience?</td>\n",
       "      <td>1</td>\n",
       "    </tr>\n",
       "    <tr>\n",
       "      <th>185471</th>\n",
       "      <td>185471</td>\n",
       "      <td>261411</td>\n",
       "      <td>30</td>\n",
       "      <td>What are the laws to change your status from a...</td>\n",
       "      <td>What are the laws to change your status from a...</td>\n",
       "      <td>0</td>\n",
       "    </tr>\n",
       "    <tr>\n",
       "      <th>14</th>\n",
       "      <td>14</td>\n",
       "      <td>29</td>\n",
       "      <td>30</td>\n",
       "      <td>What are the laws to change your status from a...</td>\n",
       "      <td>What are the laws to change your status from a...</td>\n",
       "      <td>0</td>\n",
       "    </tr>\n",
       "  </tbody>\n",
       "</table>\n",
       "</div>"
      ],
      "text/plain": [
       "            id    qid1  qid2  \\\n",
       "402369  402369   38436    18   \n",
       "65735    65735  114035    26   \n",
       "13          13      27    28   \n",
       "185471  185471  261411    30   \n",
       "14          14      29    30   \n",
       "\n",
       "                                                question1  \\\n",
       "402369         When do you use \"into\" instead of \"in to\"?   \n",
       "65735     Is there a way to make learning physics easier?   \n",
       "13            What was your first sexual experience like?   \n",
       "185471  What are the laws to change your status from a...   \n",
       "14      What are the laws to change your status from a...   \n",
       "\n",
       "                                                question2  is_duplicate  \n",
       "402369              When do you use \"&\" instead of \"and\"?             0  \n",
       "65735             How can you make physics easy to learn?             1  \n",
       "13                 What was your first sexual experience?             1  \n",
       "185471  What are the laws to change your status from a...             0  \n",
       "14      What are the laws to change your status from a...             0  "
      ]
     },
     "execution_count": 25,
     "metadata": {},
     "output_type": "execute_result"
    }
   ],
   "source": [
    "dup2 = train.filter(items=dup_pairs,  axis=0).sort_values(['qid2'])\n",
    "dup2.head()"
   ]
  },
  {
   "cell_type": "code",
   "execution_count": 26,
   "metadata": {
    "collapsed": true
   },
   "outputs": [],
   "source": [
    "# check if we have duplicated questions pairs"
   ]
  },
  {
   "cell_type": "code",
   "execution_count": 27,
   "metadata": {},
   "outputs": [
    {
     "data": {
      "text/html": [
       "<div>\n",
       "<style>\n",
       "    .dataframe thead tr:only-child th {\n",
       "        text-align: right;\n",
       "    }\n",
       "\n",
       "    .dataframe thead th {\n",
       "        text-align: left;\n",
       "    }\n",
       "\n",
       "    .dataframe tbody tr th {\n",
       "        vertical-align: top;\n",
       "    }\n",
       "</style>\n",
       "<table border=\"1\" class=\"dataframe\">\n",
       "  <thead>\n",
       "    <tr style=\"text-align: right;\">\n",
       "      <th></th>\n",
       "      <th>id</th>\n",
       "      <th>qid1</th>\n",
       "      <th>qid2</th>\n",
       "      <th>question1</th>\n",
       "      <th>question2</th>\n",
       "      <th>is_duplicate</th>\n",
       "    </tr>\n",
       "  </thead>\n",
       "  <tbody>\n",
       "  </tbody>\n",
       "</table>\n",
       "</div>"
      ],
      "text/plain": [
       "Empty DataFrame\n",
       "Columns: [id, qid1, qid2, question1, question2, is_duplicate]\n",
       "Index: []"
      ]
     },
     "execution_count": 27,
     "metadata": {},
     "output_type": "execute_result"
    }
   ],
   "source": [
    "d = train.duplicated(['qid1', 'qid2']) \n",
    "ddup = train[d]\n",
    "ddup"
   ]
  },
  {
   "cell_type": "markdown",
   "metadata": {},
   "source": [
    "from above analysis we don't have any duplicated pairs of question.\n",
    "### write some conclusion\n",
    "# todo visualizations\n",
    "#\n",
    "#"
   ]
  },
  {
   "cell_type": "markdown",
   "metadata": {},
   "source": [
    "## Text analysis"
   ]
  },
  {
   "cell_type": "markdown",
   "metadata": {},
   "source": [
    "Now let's analyse text data"
   ]
  },
  {
   "cell_type": "code",
   "execution_count": 35,
   "metadata": {},
   "outputs": [],
   "source": [
    "# analyse text data\n",
    "question_1 = train['question1']\n",
    "question_2 = train['question2']\n",
    "is_dup = train['is_duplicate']"
   ]
  },
  {
   "cell_type": "code",
   "execution_count": 36,
   "metadata": {},
   "outputs": [],
   "source": [
    "def clean_str(txt):\n",
    "    txt = re.sub(r\"[^A-Za-z0-9(),!?\\'\\`&%]\", \" \", txt)\n",
    "    txt = re.sub(r\"\\'s\", \" \\'s\", txt)\n",
    "    txt = re.sub(r\"\\'ve\", \" \\'ve\", txt)\n",
    "    txt = re.sub(r\"\\'t\", \" n\\'t\", txt)\n",
    "    txt = re.sub(r\"\\'re\", \" \\'re\", txt)\n",
    "    txt = re.sub(r\"\\'d\", \" \\'d\", txt) \n",
    "    txt = re.sub(r\"\\'ll\", \" \\'ll\", txt) \n",
    "    txt = re.sub(r\",\", \" , \", txt) \n",
    "    txt = re.sub(r\"!\", \" ! \", txt) \n",
    "    txt = re.sub(r\"\\(\", \" ( \", txt) \n",
    "    txt = re.sub(r\"\\)\", \" ) \", txt) \n",
    "    txt = re.sub(r\"\\?\", \" ? \", txt) \n",
    "    txt = re.sub(r\"\\&\", \" & \", txt)\n",
    "    txt = re.sub(r\"\\%\", \" percent \", txt)\n",
    "    return txt.strip().lower()\n",
    "    \n",
    "    "
   ]
  },
  {
   "cell_type": "code",
   "execution_count": 37,
   "metadata": {},
   "outputs": [],
   "source": [
    "question1_clean = question_1.apply(clean_str)\n",
    "question2_clean = question_2.apply(clean_str)"
   ]
  },
  {
   "cell_type": "code",
   "execution_count": 38,
   "metadata": {},
   "outputs": [
    {
     "name": "stdout",
     "output_type": "stream",
     "text": [
      "question 1: what is the step by step guide to invest in share market in india ?\n",
      "question 2: what is the step by step guide to invest in share market ?\n",
      "is duplicate: 0\n",
      "\n",
      "question 1: what is the story of kohinoor  ( koh i noor )  diamond ?\n",
      "question 2: what would happen if the indian government stole the kohinoor  ( koh i noor )  diamond back ?\n",
      "is duplicate: 0\n",
      "\n",
      "question 1: how can i increase the speed of my internet connection while using a vpn ?\n",
      "question 2: how can internet speed be increased by hacking through dns ?\n",
      "is duplicate: 0\n",
      "\n",
      "question 1: why am i mentally very lonely ?  how can i solve it ?\n",
      "question 2: find the remainder when  math 23  24   math  is divided by 24 , 23 ?\n",
      "is duplicate: 0\n",
      "\n",
      "question 1: which one dissolve in water quikly sugar ,  salt ,  methane and carbon di oxide ?\n",
      "question 2: which fish would survive in salt water ?\n",
      "is duplicate: 0\n",
      "\n",
      "question 1: astrology  i am a capricorn sun cap moon and cap rising   what does that say about me ?\n",
      "question 2: i'm a triple capricorn  ( sun ,  moon and ascendant in capricorn )  what does this say about me ?\n",
      "is duplicate: 1\n",
      "\n",
      "question 1: should i buy tiago ?\n",
      "question 2: what keeps childern active and far from phone and video games ?\n",
      "is duplicate: 0\n",
      "\n",
      "question 1: how can i be a good geologist ?\n",
      "question 2: what should i do to be a great geologist ?\n",
      "is duplicate: 1\n",
      "\n",
      "question 1: when do you use   instead of   ?\n",
      "question 2: when do you use   &   instead of  and  ?\n",
      "is duplicate: 0\n",
      "\n",
      "question 1: motorola  ( company )   can i hack my charter motorolla dcx3400 ?\n",
      "question 2: how do i hack motorola dcx3400 for free internet ?\n",
      "is duplicate: 0\n",
      "\n"
     ]
    }
   ],
   "source": [
    "for i in range(10):\n",
    "    print(f\"question 1: {question1_clean[i]}\")\n",
    "    print(f\"question 2: {question2_clean[i]}\")\n",
    "    print(f\"is duplicate: {is_dup[i]}\")\n",
    "    print()"
   ]
  },
  {
   "cell_type": "code",
   "execution_count": 39,
   "metadata": {},
   "outputs": [
    {
     "name": "stdout",
     "output_type": "stream",
     "text": [
      "question 1 length 404288\n",
      "question 2 length 404288\n"
     ]
    }
   ],
   "source": [
    "# check size\n",
    "q1_len = len(question1_clean)\n",
    "q2_len = len(question2_clean)\n",
    "print(f\"question 1 length {q1_len}\")\n",
    "print(f\"question 2 length {q2_len}\")"
   ]
  },
  {
   "cell_type": "code",
   "execution_count": 40,
   "metadata": {
    "collapsed": true
   },
   "outputs": [],
   "source": [
    "question_1_len = question1_clean.apply(len)\n",
    "question_2_len = question2_clean.apply(len)"
   ]
  },
  {
   "cell_type": "code",
   "execution_count": 44,
   "metadata": {
    "collapsed": true
   },
   "outputs": [],
   "source": [
    "# filter empty list\n",
    "empty_q1_ind = question_1_len[question_1_len == 0] \n",
    "empty_q2_ind = question_2_len[question_2_len == 0]"
   ]
  },
  {
   "cell_type": "code",
   "execution_count": 43,
   "metadata": {},
   "outputs": [
    {
     "data": {
      "text/plain": [
       "3306      0\n",
       "190570    0\n",
       "290090    0\n",
       "301583    0\n",
       "Name: question1, dtype: int64"
      ]
     },
     "execution_count": 43,
     "metadata": {},
     "output_type": "execute_result"
    }
   ],
   "source": [
    "empty_q1_ind"
   ]
  },
  {
   "cell_type": "code",
   "execution_count": 45,
   "metadata": {},
   "outputs": [
    {
     "data": {
      "text/plain": [
       "20072     0\n",
       "144343    0\n",
       "384293    0\n",
       "Name: question2, dtype: int64"
      ]
     },
     "execution_count": 45,
     "metadata": {},
     "output_type": "execute_result"
    }
   ],
   "source": [
    "empty_q2_ind"
   ]
  },
  {
   "cell_type": "code",
   "execution_count": 46,
   "metadata": {},
   "outputs": [
    {
     "name": "stdout",
     "output_type": "stream",
     "text": [
      "raw data question 1: What is the step by step guide to invest in share market in india?\n",
      "clean data question 1: what is the step by step guide to invest in share market in india ?\n",
      "raw data question 2: What is the step by step guide to invest in share market?\n",
      "clean data question 2: what is the step by step guide to invest in share market ?\n",
      "is duplicate 2: 0\n",
      "\n",
      "raw data question 1: What is the step by step guide to invest in share market in india?\n",
      "clean data question 1: what is the step by step guide to invest in share market in india ?\n",
      "raw data question 2: What is the step by step guide to invest in share market?\n",
      "clean data question 2: what is the step by step guide to invest in share market ?\n",
      "is duplicate 2: 0\n",
      "\n",
      "raw data question 1: What is the step by step guide to invest in share market in india?\n",
      "clean data question 1: what is the step by step guide to invest in share market in india ?\n",
      "raw data question 2: What is the step by step guide to invest in share market?\n",
      "clean data question 2: what is the step by step guide to invest in share market ?\n",
      "is duplicate 2: 0\n",
      "\n",
      "raw data question 1: What is the step by step guide to invest in share market in india?\n",
      "clean data question 1: what is the step by step guide to invest in share market in india ?\n",
      "raw data question 2: What is the step by step guide to invest in share market?\n",
      "clean data question 2: what is the step by step guide to invest in share market ?\n",
      "is duplicate 2: 0\n",
      "\n"
     ]
    }
   ],
   "source": [
    "# print empty record\n",
    "for i in empty_q1_ind:\n",
    "    print(f\"raw data question 1: {question_1[i]}\")\n",
    "    print(f\"clean data question 1: {question1_clean[i]}\")\n",
    "    print(f\"raw data question 2: {question_2[i]}\")\n",
    "    print(f\"clean data question 2: {question2_clean[i]}\")\n",
    "    print(f\"is duplicate 2: {is_dup[i]}\")\n",
    "    print()"
   ]
  },
  {
   "cell_type": "code",
   "execution_count": 47,
   "metadata": {},
   "outputs": [
    {
     "name": "stdout",
     "output_type": "stream",
     "text": [
      "raw data question 1: What is the step by step guide to invest in share market in india?\n",
      "clean data question 1: what is the step by step guide to invest in share market in india ?\n",
      "raw data question 2: What is the step by step guide to invest in share market?\n",
      "clean data question 2: what is the step by step guide to invest in share market ?\n",
      "is duplicate 2: 0\n",
      "\n",
      "raw data question 1: What is the step by step guide to invest in share market in india?\n",
      "clean data question 1: what is the step by step guide to invest in share market in india ?\n",
      "raw data question 2: What is the step by step guide to invest in share market?\n",
      "clean data question 2: what is the step by step guide to invest in share market ?\n",
      "is duplicate 2: 0\n",
      "\n",
      "raw data question 1: What is the step by step guide to invest in share market in india?\n",
      "clean data question 1: what is the step by step guide to invest in share market in india ?\n",
      "raw data question 2: What is the step by step guide to invest in share market?\n",
      "clean data question 2: what is the step by step guide to invest in share market ?\n",
      "is duplicate 2: 0\n",
      "\n"
     ]
    }
   ],
   "source": [
    "# question 2 \n",
    "for i in empty_q2_ind:\n",
    "    print(f\"raw data question 1: {question_1[i]}\")\n",
    "    print(f\"clean data question 1: {question1_clean[i]}\")\n",
    "    print(f\"raw data question 2: {question_2[i]}\")\n",
    "    print(f\"clean data question 2: {question2_clean[i]}\")\n",
    "    print(f\"is duplicate 2: {is_dup[i]}\")\n",
    "    print()"
   ]
  },
  {
   "cell_type": "markdown",
   "metadata": {},
   "source": [
    "we will remove those entries"
   ]
  },
  {
   "cell_type": "code",
   "execution_count": 51,
   "metadata": {},
   "outputs": [],
   "source": [
    "# vocabulary in question 1\n",
    "q1_vocabulary = question1_clean.apply(lambda x: list(set(x.split())))\n",
    "q1_vocabulary_len = q1_vocabulary.apply(len)"
   ]
  },
  {
   "cell_type": "code",
   "execution_count": 52,
   "metadata": {},
   "outputs": [
    {
     "data": {
      "text/plain": [
       "0    [in, what, to, the, step, share, guide, india,...\n",
       "1    [what, kohinoor, of, i, noor, the, koh, (, ?, ...\n",
       "2    [how, i, of, can, vpn, increase, while, the, a...\n",
       "Name: question1, dtype: object"
      ]
     },
     "execution_count": 52,
     "metadata": {},
     "output_type": "execute_result"
    }
   ],
   "source": [
    "q1_vocabulary[:3]"
   ]
  },
  {
   "cell_type": "code",
   "execution_count": 53,
   "metadata": {},
   "outputs": [
    {
     "data": {
      "text/plain": [
       "0    13\n",
       "1    13\n",
       "2    15\n",
       "Name: question1, dtype: int64"
      ]
     },
     "execution_count": 53,
     "metadata": {},
     "output_type": "execute_result"
    }
   ],
   "source": [
    "q1_vocabulary_len[:3]"
   ]
  },
  {
   "cell_type": "code",
   "execution_count": 54,
   "metadata": {
    "collapsed": true
   },
   "outputs": [],
   "source": [
    "# vocabulary in question 2\n",
    "q2_vocabulary = question2_clean.apply(lambda x: list(set(x.split())))\n",
    "q2_vocabulary_len = q2_vocabulary.apply(len)"
   ]
  },
  {
   "cell_type": "code",
   "execution_count": 56,
   "metadata": {},
   "outputs": [
    {
     "data": {
      "text/plain": [
       "0    [in, what, to, the, step, share, guide, by, ma...\n",
       "1    [would, what, kohinoor, i, noor, back, if, ind...\n",
       "2    [increased, dns, how, can, be, internet, by, h...\n",
       "Name: question2, dtype: object"
      ]
     },
     "execution_count": 56,
     "metadata": {},
     "output_type": "execute_result"
    }
   ],
   "source": [
    "q2_vocabulary[:3]"
   ]
  },
  {
   "cell_type": "code",
   "execution_count": 57,
   "metadata": {},
   "outputs": [
    {
     "data": {
      "text/plain": [
       "0    12\n",
       "1    17\n",
       "2    11\n",
       "3    12\n",
       "4     8\n",
       "Name: question2, dtype: int64"
      ]
     },
     "execution_count": 57,
     "metadata": {},
     "output_type": "execute_result"
    }
   ],
   "source": [
    "q2_vocabulary_len[:5]"
   ]
  },
  {
   "cell_type": "code",
   "execution_count": 61,
   "metadata": {
    "collapsed": true
   },
   "outputs": [],
   "source": [
    "voc_df = pd.DataFrame({'voc_1': q1_vocabulary, 'voc_2':q2_vocabulary})"
   ]
  },
  {
   "cell_type": "code",
   "execution_count": 62,
   "metadata": {},
   "outputs": [
    {
     "data": {
      "text/html": [
       "<div>\n",
       "<style>\n",
       "    .dataframe thead tr:only-child th {\n",
       "        text-align: right;\n",
       "    }\n",
       "\n",
       "    .dataframe thead th {\n",
       "        text-align: left;\n",
       "    }\n",
       "\n",
       "    .dataframe tbody tr th {\n",
       "        vertical-align: top;\n",
       "    }\n",
       "</style>\n",
       "<table border=\"1\" class=\"dataframe\">\n",
       "  <thead>\n",
       "    <tr style=\"text-align: right;\">\n",
       "      <th></th>\n",
       "      <th>voc_1</th>\n",
       "      <th>voc_2</th>\n",
       "    </tr>\n",
       "  </thead>\n",
       "  <tbody>\n",
       "    <tr>\n",
       "      <th>0</th>\n",
       "      <td>[in, what, to, the, step, share, guide, india,...</td>\n",
       "      <td>[in, what, to, the, step, share, guide, by, ma...</td>\n",
       "    </tr>\n",
       "    <tr>\n",
       "      <th>1</th>\n",
       "      <td>[what, kohinoor, of, i, noor, the, koh, (, ?, ...</td>\n",
       "      <td>[would, what, kohinoor, i, noor, back, if, ind...</td>\n",
       "    </tr>\n",
       "    <tr>\n",
       "      <th>2</th>\n",
       "      <td>[how, i, of, can, vpn, increase, while, the, a...</td>\n",
       "      <td>[increased, dns, how, can, be, internet, by, h...</td>\n",
       "    </tr>\n",
       "    <tr>\n",
       "      <th>3</th>\n",
       "      <td>[how, why, i, can, mentally, it, lonely, very,...</td>\n",
       "      <td>[remainder, ,, find, 24, the, 23, math, divide...</td>\n",
       "    </tr>\n",
       "    <tr>\n",
       "      <th>4</th>\n",
       "      <td>[which, in, di, ,, oxide, water, methane, and,...</td>\n",
       "      <td>[would, which, in, water, fish, ?, survive, salt]</td>\n",
       "    </tr>\n",
       "  </tbody>\n",
       "</table>\n",
       "</div>"
      ],
      "text/plain": [
       "                                               voc_1  \\\n",
       "0  [in, what, to, the, step, share, guide, india,...   \n",
       "1  [what, kohinoor, of, i, noor, the, koh, (, ?, ...   \n",
       "2  [how, i, of, can, vpn, increase, while, the, a...   \n",
       "3  [how, why, i, can, mentally, it, lonely, very,...   \n",
       "4  [which, in, di, ,, oxide, water, methane, and,...   \n",
       "\n",
       "                                               voc_2  \n",
       "0  [in, what, to, the, step, share, guide, by, ma...  \n",
       "1  [would, what, kohinoor, i, noor, back, if, ind...  \n",
       "2  [increased, dns, how, can, be, internet, by, h...  \n",
       "3  [remainder, ,, find, 24, the, 23, math, divide...  \n",
       "4  [would, which, in, water, fish, ?, survive, salt]  "
      ]
     },
     "execution_count": 62,
     "metadata": {},
     "output_type": "execute_result"
    }
   ],
   "source": [
    "voc_df.head()"
   ]
  },
  {
   "cell_type": "code",
   "execution_count": 66,
   "metadata": {},
   "outputs": [],
   "source": [
    "shared_token = voc_df.apply(lambda row: list(set(row['voc_1']) & set(row['voc_2'])), axis=1 )"
   ]
  },
  {
   "cell_type": "code",
   "execution_count": 69,
   "metadata": {},
   "outputs": [],
   "source": [
    "shared_token_len = shared_token.apply(len)"
   ]
  },
  {
   "cell_type": "code",
   "execution_count": 75,
   "metadata": {},
   "outputs": [
    {
     "name": "stdout",
     "output_type": "stream",
     "text": [
      "['in', 'what', 'to', 'the', 'step', 'share', 'guide', 'india', 'by', 'market', 'invest', '?', 'is']\n",
      "['in', 'what', 'to', 'the', 'step', 'share', 'guide', 'by', 'market', 'invest', '?', 'is']\n",
      "['in', 'what', 'to', 'the', 'step', 'share', 'guide', 'by', 'market', 'invest', '?', 'is']\n",
      "12\n",
      "\n",
      "['what', 'kohinoor', 'of', 'i', 'noor', 'the', 'koh', '(', '?', 'diamond', 'story', ')', 'is']\n",
      "['would', 'what', 'kohinoor', 'i', 'noor', 'back', 'if', 'indian', 'the', 'stole', 'koh', 'government', '(', 'diamond', 'happen', '?', ')']\n",
      "['what', 'kohinoor', 'noor', 'i', 'the', 'koh', '(', 'diamond', '?', ')']\n",
      "10\n",
      "\n",
      "['how', 'i', 'of', 'can', 'vpn', 'increase', 'while', 'the', 'a', 'internet', 'using', 'my', 'connection', '?', 'speed']\n",
      "['increased', 'dns', 'how', 'can', 'be', 'internet', 'by', 'hacking', '?', 'through', 'speed']\n",
      "['how', 'can', 'internet', '?', 'speed']\n",
      "5\n",
      "\n",
      "['how', 'why', 'i', 'can', 'mentally', 'it', 'lonely', 'very', '?', 'am', 'solve']\n",
      "['remainder', ',', 'find', '24', 'the', '23', 'math', 'divided', 'when', 'by', '?', 'is']\n",
      "['?']\n",
      "1\n",
      "\n",
      "['which', 'in', 'di', ',', 'oxide', 'water', 'methane', 'and', 'sugar', 'dissolve', 'quikly', 'one', '?', 'carbon', 'salt']\n",
      "['would', 'which', 'in', 'water', 'fish', '?', 'survive', 'salt']\n",
      "['which', 'in', 'water', '?', 'salt']\n",
      "5\n",
      "\n",
      "['what', 'i', 'sun', 'cap', 'and', 'a', 'capricorn', 'say', 'does', 'me', 'about', 'rising', '?', 'astrology', 'moon', 'that', 'am']\n",
      "['in', 'what', ',', 'sun', 'triple', 'ascendant', ')', 'this', \"i'm\", 'a', 'capricorn', 'and', 'does', 'say', 'about', 'me', '(', '?', 'moon']\n",
      "['what', 'sun', 'and', 'a', 'capricorn', 'say', 'does', 'me', 'about', '?', 'moon']\n",
      "11\n",
      "\n",
      "['buy', 'i', 'should', '?', 'tiago']\n",
      "['what', 'active', 'games', 'keeps', 'and', 'far', 'childern', '?', 'phone', 'from', 'video']\n",
      "['?']\n",
      "1\n",
      "\n",
      "['how', 'i', 'can', 'be', 'a', 'good', '?', 'geologist']\n",
      "['great', 'what', 'to', 'i', 'be', 'a', 'should', 'do', '?', 'geologist']\n",
      "['i', 'be', 'a', '?', 'geologist']\n",
      "5\n",
      "\n",
      "['of', 'use', 'when', 'do', '?', 'instead', 'you']\n",
      "['of', 'and', 'use', '&', 'when', 'do', '?', 'instead', 'you']\n",
      "['of', 'use', 'when', 'do', '?', 'instead', 'you']\n",
      "7\n",
      "\n",
      "['charter', 'i', 'hack', 'can', 'company', 'motorolla', 'my', '(', 'dcx3400', 'motorola', '?', ')']\n",
      "['how', 'free', 'i', 'hack', 'internet', 'for', 'dcx3400', 'motorola', 'do', '?']\n",
      "['i', 'hack', 'dcx3400', 'motorola', '?']\n",
      "5\n",
      "\n"
     ]
    }
   ],
   "source": [
    "# check\n",
    "for i in range(10):\n",
    "    print(f\"{q1_vocabulary[i]}\")\n",
    "    print(f\"{q2_vocabulary[i]}\")\n",
    "    print(f\"{shared_token[i]}\")\n",
    "    print(f\"{shared_token_len[i]}\")\n",
    "    print()"
   ]
  },
  {
   "cell_type": "code",
   "execution_count": 89,
   "metadata": {
    "collapsed": true
   },
   "outputs": [],
   "source": [
    "import math\n",
    "def average_word_len(arr):\n",
    "    m = len(arr)\n",
    "    if m > 0:\n",
    "        l = [len(txt) for txt in arr]\n",
    "        return round(float(sum(l))/m, 2) \n",
    "    else:\n",
    "        return 0"
   ]
  },
  {
   "cell_type": "code",
   "execution_count": 90,
   "metadata": {},
   "outputs": [],
   "source": [
    "q1_average_word_len = question1_clean.apply( lambda x: average_word_len(x.split()))\n",
    "q2_average_word_len = question2_clean.apply( lambda x: average_word_len(x.split()))"
   ]
  },
  {
   "cell_type": "code",
   "execution_count": 92,
   "metadata": {},
   "outputs": [
    {
     "data": {
      "text/plain": [
       "0    3.53\n",
       "1    3.23\n",
       "2    4.00\n",
       "Name: question1, dtype: float64"
      ]
     },
     "execution_count": 92,
     "metadata": {},
     "output_type": "execute_result"
    }
   ],
   "source": [
    "q1_average_word_len[:3]"
   ]
  },
  {
   "cell_type": "code",
   "execution_count": 93,
   "metadata": {},
   "outputs": [
    {
     "data": {
      "text/plain": [
       "0    3.54\n",
       "1    4.11\n",
       "2    4.55\n",
       "Name: question2, dtype: float64"
      ]
     },
     "execution_count": 93,
     "metadata": {},
     "output_type": "execute_result"
    }
   ],
   "source": [
    "q2_average_word_len[:3]"
   ]
  },
  {
   "cell_type": "code",
   "execution_count": 94,
   "metadata": {
    "collapsed": true
   },
   "outputs": [],
   "source": [
    "shared_token_average_len = shared_token.apply(lambda x: average_word_len(x))"
   ]
  },
  {
   "cell_type": "code",
   "execution_count": 96,
   "metadata": {},
   "outputs": [
    {
     "data": {
      "text/plain": [
       "0    3.50\n",
       "1    3.30\n",
       "2    4.00\n",
       "3    1.00\n",
       "4    3.40\n",
       "5    3.55\n",
       "6    1.00\n",
       "7    2.80\n",
       "8    3.14\n",
       "9    4.20\n",
       "dtype: float64"
      ]
     },
     "execution_count": 96,
     "metadata": {},
     "output_type": "execute_result"
    }
   ],
   "source": [
    "shared_token_average_len[:10]"
   ]
  },
  {
   "cell_type": "code",
   "execution_count": null,
   "metadata": {
    "collapsed": true
   },
   "outputs": [],
   "source": [
    "# create a new dataframe "
   ]
  },
  {
   "cell_type": "code",
   "execution_count": 119,
   "metadata": {
    "collapsed": true
   },
   "outputs": [],
   "source": [
    "df = pd.DataFrame()"
   ]
  },
  {
   "cell_type": "code",
   "execution_count": 123,
   "metadata": {
    "collapsed": true
   },
   "outputs": [],
   "source": [
    "# question1 len\n",
    "df['q1_len'] = question_1_len\n",
    "# question 2 len\n",
    "df['q2_len'] = question_2_len\n",
    "# question 1 vocabulary len\n",
    "df['q1_voc_len'] = q1_vocabulary_len\n",
    "# question 2 vocabulary len\n",
    "df['q2_voc_len'] = q2_vocabulary_len\n",
    "# question 1 average word len\n",
    "df['q1_average_word_len'] = q1_average_word_len\n",
    "# question 2 average word len\n",
    "df['q2_average_word_len'] = q2_average_word_len\n",
    "# shared token len\n",
    "df['shared_token_len'] = shared_token_len\n",
    "#average word in shared token\n",
    "df['shared_token_average_word_len'] = shared_token_average_len\n",
    "# question 1\n",
    "df['question_1'] = question1_clean.apply(lambda x: x.split())\n",
    "# question 2\n",
    "df['question_2'] =  question2_clean.apply(lambda x: x.split())"
   ]
  },
  {
   "cell_type": "code",
   "execution_count": 124,
   "metadata": {
    "collapsed": true
   },
   "outputs": [],
   "source": [
    "df['is_duplicate'] = is_dup"
   ]
  },
  {
   "cell_type": "code",
   "execution_count": 125,
   "metadata": {},
   "outputs": [
    {
     "data": {
      "text/html": [
       "<div>\n",
       "<style>\n",
       "    .dataframe thead tr:only-child th {\n",
       "        text-align: right;\n",
       "    }\n",
       "\n",
       "    .dataframe thead th {\n",
       "        text-align: left;\n",
       "    }\n",
       "\n",
       "    .dataframe tbody tr th {\n",
       "        vertical-align: top;\n",
       "    }\n",
       "</style>\n",
       "<table border=\"1\" class=\"dataframe\">\n",
       "  <thead>\n",
       "    <tr style=\"text-align: right;\">\n",
       "      <th></th>\n",
       "      <th>q1_len</th>\n",
       "      <th>q2_len</th>\n",
       "      <th>q1_voc_len</th>\n",
       "      <th>q2_voc_len</th>\n",
       "      <th>q1_average_word_len</th>\n",
       "      <th>q2_average_word_len</th>\n",
       "      <th>shared_token_len</th>\n",
       "      <th>shared_token_average_word_len</th>\n",
       "      <th>question_1</th>\n",
       "      <th>is_duplicate</th>\n",
       "      <th>question_2</th>\n",
       "    </tr>\n",
       "  </thead>\n",
       "  <tbody>\n",
       "    <tr>\n",
       "      <th>0</th>\n",
       "      <td>67</td>\n",
       "      <td>58</td>\n",
       "      <td>13</td>\n",
       "      <td>12</td>\n",
       "      <td>3.53</td>\n",
       "      <td>3.54</td>\n",
       "      <td>12</td>\n",
       "      <td>3.5</td>\n",
       "      <td>[what, is, the, step, by, step, guide, to, inv...</td>\n",
       "      <td>0</td>\n",
       "      <td>[what, is, the, step, by, step, guide, to, inv...</td>\n",
       "    </tr>\n",
       "    <tr>\n",
       "      <th>1</th>\n",
       "      <td>56</td>\n",
       "      <td>93</td>\n",
       "      <td>13</td>\n",
       "      <td>17</td>\n",
       "      <td>3.23</td>\n",
       "      <td>4.11</td>\n",
       "      <td>10</td>\n",
       "      <td>3.3</td>\n",
       "      <td>[what, is, the, story, of, kohinoor, (, koh, i...</td>\n",
       "      <td>0</td>\n",
       "      <td>[what, would, happen, if, the, indian, governm...</td>\n",
       "    </tr>\n",
       "    <tr>\n",
       "      <th>2</th>\n",
       "      <td>74</td>\n",
       "      <td>60</td>\n",
       "      <td>15</td>\n",
       "      <td>11</td>\n",
       "      <td>4.00</td>\n",
       "      <td>4.55</td>\n",
       "      <td>5</td>\n",
       "      <td>4.0</td>\n",
       "      <td>[how, can, i, increase, the, speed, of, my, in...</td>\n",
       "      <td>0</td>\n",
       "      <td>[how, can, internet, speed, be, increased, by,...</td>\n",
       "    </tr>\n",
       "    <tr>\n",
       "      <th>3</th>\n",
       "      <td>53</td>\n",
       "      <td>68</td>\n",
       "      <td>11</td>\n",
       "      <td>12</td>\n",
       "      <td>3.08</td>\n",
       "      <td>3.27</td>\n",
       "      <td>1</td>\n",
       "      <td>1.0</td>\n",
       "      <td>[why, am, i, mentally, very, lonely, ?, how, c...</td>\n",
       "      <td>0</td>\n",
       "      <td>[find, the, remainder, when, math, 23, 24, mat...</td>\n",
       "    </tr>\n",
       "    <tr>\n",
       "      <th>4</th>\n",
       "      <td>81</td>\n",
       "      <td>40</td>\n",
       "      <td>15</td>\n",
       "      <td>8</td>\n",
       "      <td>4.00</td>\n",
       "      <td>4.12</td>\n",
       "      <td>5</td>\n",
       "      <td>3.4</td>\n",
       "      <td>[which, one, dissolve, in, water, quikly, suga...</td>\n",
       "      <td>0</td>\n",
       "      <td>[which, fish, would, survive, in, salt, water, ?]</td>\n",
       "    </tr>\n",
       "  </tbody>\n",
       "</table>\n",
       "</div>"
      ],
      "text/plain": [
       "   q1_len  q2_len  q1_voc_len  q2_voc_len  q1_average_word_len  \\\n",
       "0      67      58          13          12                 3.53   \n",
       "1      56      93          13          17                 3.23   \n",
       "2      74      60          15          11                 4.00   \n",
       "3      53      68          11          12                 3.08   \n",
       "4      81      40          15           8                 4.00   \n",
       "\n",
       "   q2_average_word_len  shared_token_len  shared_token_average_word_len  \\\n",
       "0                 3.54                12                            3.5   \n",
       "1                 4.11                10                            3.3   \n",
       "2                 4.55                 5                            4.0   \n",
       "3                 3.27                 1                            1.0   \n",
       "4                 4.12                 5                            3.4   \n",
       "\n",
       "                                          question_1  is_duplicate  \\\n",
       "0  [what, is, the, step, by, step, guide, to, inv...             0   \n",
       "1  [what, is, the, story, of, kohinoor, (, koh, i...             0   \n",
       "2  [how, can, i, increase, the, speed, of, my, in...             0   \n",
       "3  [why, am, i, mentally, very, lonely, ?, how, c...             0   \n",
       "4  [which, one, dissolve, in, water, quikly, suga...             0   \n",
       "\n",
       "                                          question_2  \n",
       "0  [what, is, the, step, by, step, guide, to, inv...  \n",
       "1  [what, would, happen, if, the, indian, governm...  \n",
       "2  [how, can, internet, speed, be, increased, by,...  \n",
       "3  [find, the, remainder, when, math, 23, 24, mat...  \n",
       "4  [which, fish, would, survive, in, salt, water, ?]  "
      ]
     },
     "execution_count": 125,
     "metadata": {},
     "output_type": "execute_result"
    }
   ],
   "source": [
    "df.head()"
   ]
  },
  {
   "cell_type": "code",
   "execution_count": 126,
   "metadata": {},
   "outputs": [
    {
     "data": {
      "text/plain": [
       "(404288, 11)"
      ]
     },
     "execution_count": 126,
     "metadata": {},
     "output_type": "execute_result"
    }
   ],
   "source": [
    "df.shape"
   ]
  },
  {
   "cell_type": "code",
   "execution_count": 127,
   "metadata": {},
   "outputs": [
    {
     "data": {
      "text/plain": [
       "(404288, 6)"
      ]
     },
     "execution_count": 127,
     "metadata": {},
     "output_type": "execute_result"
    }
   ],
   "source": [
    "train.shape"
   ]
  },
  {
   "cell_type": "code",
   "execution_count": 128,
   "metadata": {
    "collapsed": true
   },
   "outputs": [],
   "source": [
    "# save our data\n",
    "df.to_pickle('quora.pickle')"
   ]
  },
  {
   "cell_type": "code",
   "execution_count": 129,
   "metadata": {
    "collapsed": true
   },
   "outputs": [],
   "source": [
    "## TODO\n",
    "## some cleaning in my notebook later"
   ]
  },
  {
   "cell_type": "code",
   "execution_count": null,
   "metadata": {
    "collapsed": true
   },
   "outputs": [],
   "source": []
  }
 ],
 "metadata": {
  "kernelspec": {
   "display_name": "Python 3",
   "language": "python",
   "name": "python3"
  },
  "language_info": {
   "codemirror_mode": {
    "name": "ipython",
    "version": 3
   },
   "file_extension": ".py",
   "mimetype": "text/x-python",
   "name": "python",
   "nbconvert_exporter": "python",
   "pygments_lexer": "ipython3",
   "version": "3.6.1"
  }
 },
 "nbformat": 4,
 "nbformat_minor": 2
}
